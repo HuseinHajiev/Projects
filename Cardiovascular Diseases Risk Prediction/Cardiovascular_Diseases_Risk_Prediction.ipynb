{
  "cells": [
    {
      "cell_type": "markdown",
      "metadata": {
        "id": "Fu4WQU2qkK2w"
      },
      "source": [
        "# Importing Libraries"
      ]
    },
    {
      "cell_type": "code",
      "execution_count": 1,
      "metadata": {
        "id": "3JkrmwtBYV1d"
      },
      "outputs": [],
      "source": [
        "import matplotlib.pyplot as plt\n",
        "import numpy as np\n",
        "import pandas as pd\n",
        "import seaborn as sns\n",
        "import warnings\n",
        "from sklearn.model_selection import train_test_split\n",
        "from sklearn.preprocessing import MinMaxScaler\n",
        "from imblearn.over_sampling import SMOTE\n",
        "from imblearn.under_sampling import TomekLinks\n",
        "from imblearn.pipeline import Pipeline\n",
        "from sklearn.metrics import classification_report, confusion_matrix, roc_curve, auc, precision_recall_curve \n",
        "from xgboost import XGBClassifier\n",
        "from sklearn.model_selection import GridSearchCV\n",
        "from sklearn.metrics import make_scorer, roc_auc_score\n",
        "from sklearn.metrics import confusion_matrix, ConfusionMatrixDisplay\n",
        "from sklearn.model_selection import learning_curve\n",
        "\n",
        "\n",
        "warnings.filterwarnings('ignore')\n",
        "pd.set_option('display.max_columns', None)"
      ]
    },
    {
      "cell_type": "markdown",
      "metadata": {
        "id": "AulTOBtwkOib"
      },
      "source": [
        "# Importing Dataset"
      ]
    },
    {
      "cell_type": "code",
      "execution_count": 2,
      "metadata": {
        "colab": {
          "base_uri": "https://localhost:8080/",
          "height": 774
        },
        "id": "rVHqFdnzZZug",
        "outputId": "e8adacb6-03e0-4b52-ceaa-456ea3dbcde7"
      },
      "outputs": [
        {
          "data": {
            "text/html": [
              "<div>\n",
              "<style scoped>\n",
              "    .dataframe tbody tr th:only-of-type {\n",
              "        vertical-align: middle;\n",
              "    }\n",
              "\n",
              "    .dataframe tbody tr th {\n",
              "        vertical-align: top;\n",
              "    }\n",
              "\n",
              "    .dataframe thead th {\n",
              "        text-align: right;\n",
              "    }\n",
              "</style>\n",
              "<table border=\"1\" class=\"dataframe\">\n",
              "  <thead>\n",
              "    <tr style=\"text-align: right;\">\n",
              "      <th></th>\n",
              "      <th>General_Health</th>\n",
              "      <th>Checkup</th>\n",
              "      <th>Exercise</th>\n",
              "      <th>Heart_Disease</th>\n",
              "      <th>Skin_Cancer</th>\n",
              "      <th>Other_Cancer</th>\n",
              "      <th>Depression</th>\n",
              "      <th>Diabetes</th>\n",
              "      <th>Arthritis</th>\n",
              "      <th>Sex</th>\n",
              "      <th>Age_Category</th>\n",
              "      <th>Height_(cm)</th>\n",
              "      <th>Weight_(kg)</th>\n",
              "      <th>BMI</th>\n",
              "      <th>Smoking_History</th>\n",
              "      <th>Alcohol_Consumption</th>\n",
              "      <th>Fruit_Consumption</th>\n",
              "      <th>Green_Vegetables_Consumption</th>\n",
              "      <th>FriedPotato_Consumption</th>\n",
              "    </tr>\n",
              "  </thead>\n",
              "  <tbody>\n",
              "    <tr>\n",
              "      <th>0</th>\n",
              "      <td>Poor</td>\n",
              "      <td>Within the past 2 years</td>\n",
              "      <td>No</td>\n",
              "      <td>No</td>\n",
              "      <td>No</td>\n",
              "      <td>No</td>\n",
              "      <td>No</td>\n",
              "      <td>No</td>\n",
              "      <td>Yes</td>\n",
              "      <td>Female</td>\n",
              "      <td>70-74</td>\n",
              "      <td>150.0</td>\n",
              "      <td>32.66</td>\n",
              "      <td>14.54</td>\n",
              "      <td>Yes</td>\n",
              "      <td>0.0</td>\n",
              "      <td>30.0</td>\n",
              "      <td>16.0</td>\n",
              "      <td>12.0</td>\n",
              "    </tr>\n",
              "    <tr>\n",
              "      <th>1</th>\n",
              "      <td>Very Good</td>\n",
              "      <td>Within the past year</td>\n",
              "      <td>No</td>\n",
              "      <td>Yes</td>\n",
              "      <td>No</td>\n",
              "      <td>No</td>\n",
              "      <td>No</td>\n",
              "      <td>Yes</td>\n",
              "      <td>No</td>\n",
              "      <td>Female</td>\n",
              "      <td>70-74</td>\n",
              "      <td>165.0</td>\n",
              "      <td>77.11</td>\n",
              "      <td>28.29</td>\n",
              "      <td>No</td>\n",
              "      <td>0.0</td>\n",
              "      <td>30.0</td>\n",
              "      <td>0.0</td>\n",
              "      <td>4.0</td>\n",
              "    </tr>\n",
              "    <tr>\n",
              "      <th>2</th>\n",
              "      <td>Very Good</td>\n",
              "      <td>Within the past year</td>\n",
              "      <td>Yes</td>\n",
              "      <td>No</td>\n",
              "      <td>No</td>\n",
              "      <td>No</td>\n",
              "      <td>No</td>\n",
              "      <td>Yes</td>\n",
              "      <td>No</td>\n",
              "      <td>Female</td>\n",
              "      <td>60-64</td>\n",
              "      <td>163.0</td>\n",
              "      <td>88.45</td>\n",
              "      <td>33.47</td>\n",
              "      <td>No</td>\n",
              "      <td>4.0</td>\n",
              "      <td>12.0</td>\n",
              "      <td>3.0</td>\n",
              "      <td>16.0</td>\n",
              "    </tr>\n",
              "    <tr>\n",
              "      <th>3</th>\n",
              "      <td>Poor</td>\n",
              "      <td>Within the past year</td>\n",
              "      <td>Yes</td>\n",
              "      <td>Yes</td>\n",
              "      <td>No</td>\n",
              "      <td>No</td>\n",
              "      <td>No</td>\n",
              "      <td>Yes</td>\n",
              "      <td>No</td>\n",
              "      <td>Male</td>\n",
              "      <td>75-79</td>\n",
              "      <td>180.0</td>\n",
              "      <td>93.44</td>\n",
              "      <td>28.73</td>\n",
              "      <td>No</td>\n",
              "      <td>0.0</td>\n",
              "      <td>30.0</td>\n",
              "      <td>30.0</td>\n",
              "      <td>8.0</td>\n",
              "    </tr>\n",
              "    <tr>\n",
              "      <th>4</th>\n",
              "      <td>Good</td>\n",
              "      <td>Within the past year</td>\n",
              "      <td>No</td>\n",
              "      <td>No</td>\n",
              "      <td>No</td>\n",
              "      <td>No</td>\n",
              "      <td>No</td>\n",
              "      <td>No</td>\n",
              "      <td>No</td>\n",
              "      <td>Male</td>\n",
              "      <td>80+</td>\n",
              "      <td>191.0</td>\n",
              "      <td>88.45</td>\n",
              "      <td>24.37</td>\n",
              "      <td>Yes</td>\n",
              "      <td>0.0</td>\n",
              "      <td>8.0</td>\n",
              "      <td>4.0</td>\n",
              "      <td>0.0</td>\n",
              "    </tr>\n",
              "    <tr>\n",
              "      <th>5</th>\n",
              "      <td>Good</td>\n",
              "      <td>Within the past year</td>\n",
              "      <td>No</td>\n",
              "      <td>No</td>\n",
              "      <td>No</td>\n",
              "      <td>No</td>\n",
              "      <td>Yes</td>\n",
              "      <td>No</td>\n",
              "      <td>Yes</td>\n",
              "      <td>Male</td>\n",
              "      <td>60-64</td>\n",
              "      <td>183.0</td>\n",
              "      <td>154.22</td>\n",
              "      <td>46.11</td>\n",
              "      <td>No</td>\n",
              "      <td>0.0</td>\n",
              "      <td>12.0</td>\n",
              "      <td>12.0</td>\n",
              "      <td>12.0</td>\n",
              "    </tr>\n",
              "    <tr>\n",
              "      <th>6</th>\n",
              "      <td>Fair</td>\n",
              "      <td>Within the past year</td>\n",
              "      <td>Yes</td>\n",
              "      <td>Yes</td>\n",
              "      <td>No</td>\n",
              "      <td>No</td>\n",
              "      <td>No</td>\n",
              "      <td>No</td>\n",
              "      <td>Yes</td>\n",
              "      <td>Male</td>\n",
              "      <td>60-64</td>\n",
              "      <td>175.0</td>\n",
              "      <td>69.85</td>\n",
              "      <td>22.74</td>\n",
              "      <td>Yes</td>\n",
              "      <td>0.0</td>\n",
              "      <td>16.0</td>\n",
              "      <td>8.0</td>\n",
              "      <td>0.0</td>\n",
              "    </tr>\n",
              "    <tr>\n",
              "      <th>7</th>\n",
              "      <td>Good</td>\n",
              "      <td>Within the past year</td>\n",
              "      <td>Yes</td>\n",
              "      <td>No</td>\n",
              "      <td>No</td>\n",
              "      <td>No</td>\n",
              "      <td>No</td>\n",
              "      <td>No</td>\n",
              "      <td>Yes</td>\n",
              "      <td>Female</td>\n",
              "      <td>65-69</td>\n",
              "      <td>165.0</td>\n",
              "      <td>108.86</td>\n",
              "      <td>39.94</td>\n",
              "      <td>Yes</td>\n",
              "      <td>3.0</td>\n",
              "      <td>30.0</td>\n",
              "      <td>8.0</td>\n",
              "      <td>8.0</td>\n",
              "    </tr>\n",
              "    <tr>\n",
              "      <th>8</th>\n",
              "      <td>Fair</td>\n",
              "      <td>Within the past year</td>\n",
              "      <td>No</td>\n",
              "      <td>No</td>\n",
              "      <td>No</td>\n",
              "      <td>No</td>\n",
              "      <td>Yes</td>\n",
              "      <td>No</td>\n",
              "      <td>No</td>\n",
              "      <td>Female</td>\n",
              "      <td>65-69</td>\n",
              "      <td>163.0</td>\n",
              "      <td>72.57</td>\n",
              "      <td>27.46</td>\n",
              "      <td>Yes</td>\n",
              "      <td>0.0</td>\n",
              "      <td>12.0</td>\n",
              "      <td>12.0</td>\n",
              "      <td>4.0</td>\n",
              "    </tr>\n",
              "    <tr>\n",
              "      <th>9</th>\n",
              "      <td>Fair</td>\n",
              "      <td>Within the past year</td>\n",
              "      <td>No</td>\n",
              "      <td>No</td>\n",
              "      <td>No</td>\n",
              "      <td>No</td>\n",
              "      <td>No</td>\n",
              "      <td>Yes</td>\n",
              "      <td>Yes</td>\n",
              "      <td>Female</td>\n",
              "      <td>70-74</td>\n",
              "      <td>163.0</td>\n",
              "      <td>91.63</td>\n",
              "      <td>34.67</td>\n",
              "      <td>No</td>\n",
              "      <td>0.0</td>\n",
              "      <td>12.0</td>\n",
              "      <td>12.0</td>\n",
              "      <td>1.0</td>\n",
              "    </tr>\n",
              "  </tbody>\n",
              "</table>\n",
              "</div>"
            ],
            "text/plain": [
              "  General_Health                  Checkup Exercise Heart_Disease Skin_Cancer  \\\n",
              "0           Poor  Within the past 2 years       No            No          No   \n",
              "1      Very Good     Within the past year       No           Yes          No   \n",
              "2      Very Good     Within the past year      Yes            No          No   \n",
              "3           Poor     Within the past year      Yes           Yes          No   \n",
              "4           Good     Within the past year       No            No          No   \n",
              "5           Good     Within the past year       No            No          No   \n",
              "6           Fair     Within the past year      Yes           Yes          No   \n",
              "7           Good     Within the past year      Yes            No          No   \n",
              "8           Fair     Within the past year       No            No          No   \n",
              "9           Fair     Within the past year       No            No          No   \n",
              "\n",
              "  Other_Cancer Depression Diabetes Arthritis     Sex Age_Category  \\\n",
              "0           No         No       No       Yes  Female        70-74   \n",
              "1           No         No      Yes        No  Female        70-74   \n",
              "2           No         No      Yes        No  Female        60-64   \n",
              "3           No         No      Yes        No    Male        75-79   \n",
              "4           No         No       No        No    Male          80+   \n",
              "5           No        Yes       No       Yes    Male        60-64   \n",
              "6           No         No       No       Yes    Male        60-64   \n",
              "7           No         No       No       Yes  Female        65-69   \n",
              "8           No        Yes       No        No  Female        65-69   \n",
              "9           No         No      Yes       Yes  Female        70-74   \n",
              "\n",
              "   Height_(cm)  Weight_(kg)    BMI Smoking_History  Alcohol_Consumption  \\\n",
              "0        150.0        32.66  14.54             Yes                  0.0   \n",
              "1        165.0        77.11  28.29              No                  0.0   \n",
              "2        163.0        88.45  33.47              No                  4.0   \n",
              "3        180.0        93.44  28.73              No                  0.0   \n",
              "4        191.0        88.45  24.37             Yes                  0.0   \n",
              "5        183.0       154.22  46.11              No                  0.0   \n",
              "6        175.0        69.85  22.74             Yes                  0.0   \n",
              "7        165.0       108.86  39.94             Yes                  3.0   \n",
              "8        163.0        72.57  27.46             Yes                  0.0   \n",
              "9        163.0        91.63  34.67              No                  0.0   \n",
              "\n",
              "   Fruit_Consumption  Green_Vegetables_Consumption  FriedPotato_Consumption  \n",
              "0               30.0                          16.0                     12.0  \n",
              "1               30.0                           0.0                      4.0  \n",
              "2               12.0                           3.0                     16.0  \n",
              "3               30.0                          30.0                      8.0  \n",
              "4                8.0                           4.0                      0.0  \n",
              "5               12.0                          12.0                     12.0  \n",
              "6               16.0                           8.0                      0.0  \n",
              "7               30.0                           8.0                      8.0  \n",
              "8               12.0                          12.0                      4.0  \n",
              "9               12.0                          12.0                      1.0  "
            ]
          },
          "execution_count": 2,
          "metadata": {},
          "output_type": "execute_result"
        }
      ],
      "source": [
        "df = pd.read_csv('CVD_cleaned.csv')\n",
        "\n",
        "df.head(10)"
      ]
    },
    {
      "cell_type": "markdown",
      "metadata": {
        "id": "WUk5c4XakTRb"
      },
      "source": [
        "# Data Understanding"
      ]
    },
    {
      "cell_type": "code",
      "execution_count": 3,
      "metadata": {
        "colab": {
          "base_uri": "https://localhost:8080/"
        },
        "id": "ts4QHvT5Z3b_",
        "outputId": "3df7be44-e0cd-49ee-f7f9-a8a2a6c6cf97"
      },
      "outputs": [
        {
          "data": {
            "text/plain": [
              "(308854, 19)"
            ]
          },
          "execution_count": 3,
          "metadata": {},
          "output_type": "execute_result"
        }
      ],
      "source": [
        "# Looking shape of the dataset before removing duplicates\n",
        "\n",
        "df.shape"
      ]
    },
    {
      "cell_type": "code",
      "execution_count": 4,
      "metadata": {
        "colab": {
          "base_uri": "https://localhost:8080/"
        },
        "id": "j0fcGoHgcKAp",
        "outputId": "60b6dce4-2536-4ff4-dc3b-ba181d8dae79"
      },
      "outputs": [
        {
          "data": {
            "text/plain": [
              "(308774, 19)"
            ]
          },
          "execution_count": 4,
          "metadata": {},
          "output_type": "execute_result"
        }
      ],
      "source": [
        "# Looking shape of the dataset after removing duplicates\n",
        "\n",
        "df.drop_duplicates(inplace = True)\n",
        "df.shape"
      ]
    },
    {
      "cell_type": "code",
      "execution_count": 5,
      "metadata": {
        "colab": {
          "base_uri": "https://localhost:8080/"
        },
        "id": "avkEpXKicO31",
        "outputId": "d7f15e22-fde9-4d3b-e6f9-1f8f5f300090"
      },
      "outputs": [
        {
          "name": "stdout",
          "output_type": "stream",
          "text": [
            "<class 'pandas.core.frame.DataFrame'>\n",
            "Int64Index: 308774 entries, 0 to 308853\n",
            "Data columns (total 19 columns):\n",
            " #   Column                        Non-Null Count   Dtype  \n",
            "---  ------                        --------------   -----  \n",
            " 0   General_Health                308774 non-null  object \n",
            " 1   Checkup                       308774 non-null  object \n",
            " 2   Exercise                      308774 non-null  object \n",
            " 3   Heart_Disease                 308774 non-null  object \n",
            " 4   Skin_Cancer                   308774 non-null  object \n",
            " 5   Other_Cancer                  308774 non-null  object \n",
            " 6   Depression                    308774 non-null  object \n",
            " 7   Diabetes                      308774 non-null  object \n",
            " 8   Arthritis                     308774 non-null  object \n",
            " 9   Sex                           308774 non-null  object \n",
            " 10  Age_Category                  308774 non-null  object \n",
            " 11  Height_(cm)                   308774 non-null  float64\n",
            " 12  Weight_(kg)                   308774 non-null  float64\n",
            " 13  BMI                           308774 non-null  float64\n",
            " 14  Smoking_History               308774 non-null  object \n",
            " 15  Alcohol_Consumption           308774 non-null  float64\n",
            " 16  Fruit_Consumption             308774 non-null  float64\n",
            " 17  Green_Vegetables_Consumption  308774 non-null  float64\n",
            " 18  FriedPotato_Consumption       308774 non-null  float64\n",
            "dtypes: float64(7), object(12)\n",
            "memory usage: 47.1+ MB\n"
          ]
        }
      ],
      "source": [
        "df.info()"
      ]
    },
    {
      "cell_type": "code",
      "execution_count": 6,
      "metadata": {
        "colab": {
          "base_uri": "https://localhost:8080/"
        },
        "id": "_ANXEkvvd69O",
        "outputId": "86d0df0d-adea-402e-986a-1d8217cf7e92"
      },
      "outputs": [
        {
          "data": {
            "text/plain": [
              "Index(['General_Health', 'Checkup', 'Exercise', 'Heart_Disease', 'Skin_Cancer',\n",
              "       'Other_Cancer', 'Depression', 'Diabetes', 'Arthritis', 'Sex',\n",
              "       'Age_Category', 'Height_(cm)', 'Weight_(kg)', 'BMI', 'Smoking_History',\n",
              "       'Alcohol_Consumption', 'Fruit_Consumption',\n",
              "       'Green_Vegetables_Consumption', 'FriedPotato_Consumption'],\n",
              "      dtype='object')"
            ]
          },
          "execution_count": 6,
          "metadata": {},
          "output_type": "execute_result"
        }
      ],
      "source": [
        "df.columns"
      ]
    },
    {
      "cell_type": "code",
      "execution_count": 7,
      "metadata": {
        "colab": {
          "base_uri": "https://localhost:8080/",
          "height": 493
        },
        "id": "Wh9M3z0Rd9XD",
        "outputId": "8262690f-b89d-4776-ddbf-5a89ea851abe"
      },
      "outputs": [
        {
          "data": {
            "text/html": [
              "<div>\n",
              "<style scoped>\n",
              "    .dataframe tbody tr th:only-of-type {\n",
              "        vertical-align: middle;\n",
              "    }\n",
              "\n",
              "    .dataframe tbody tr th {\n",
              "        vertical-align: top;\n",
              "    }\n",
              "\n",
              "    .dataframe thead th {\n",
              "        text-align: right;\n",
              "    }\n",
              "</style>\n",
              "<table border=\"1\" class=\"dataframe\">\n",
              "  <thead>\n",
              "    <tr style=\"text-align: right;\">\n",
              "      <th></th>\n",
              "      <th>General_Health</th>\n",
              "      <th>Checkup</th>\n",
              "      <th>Exercise</th>\n",
              "      <th>Heart_Disease</th>\n",
              "      <th>Skin_Cancer</th>\n",
              "      <th>Other_Cancer</th>\n",
              "      <th>Depression</th>\n",
              "      <th>Diabetes</th>\n",
              "      <th>Arthritis</th>\n",
              "      <th>Sex</th>\n",
              "      <th>Age_Category</th>\n",
              "      <th>Height_(cm)</th>\n",
              "      <th>Weight_(kg)</th>\n",
              "      <th>BMI</th>\n",
              "      <th>Smoking_History</th>\n",
              "      <th>Alcohol_Consumption</th>\n",
              "      <th>Fruit_Consumption</th>\n",
              "      <th>Green_Vegetables_Consumption</th>\n",
              "      <th>FriedPotato_Consumption</th>\n",
              "    </tr>\n",
              "  </thead>\n",
              "  <tbody>\n",
              "    <tr>\n",
              "      <th>count</th>\n",
              "      <td>308774</td>\n",
              "      <td>308774</td>\n",
              "      <td>308774</td>\n",
              "      <td>308774</td>\n",
              "      <td>308774</td>\n",
              "      <td>308774</td>\n",
              "      <td>308774</td>\n",
              "      <td>308774</td>\n",
              "      <td>308774</td>\n",
              "      <td>308774</td>\n",
              "      <td>308774</td>\n",
              "      <td>308774.000000</td>\n",
              "      <td>308774.000000</td>\n",
              "      <td>308774.000000</td>\n",
              "      <td>308774</td>\n",
              "      <td>308774.000000</td>\n",
              "      <td>308774.000000</td>\n",
              "      <td>308774.000000</td>\n",
              "      <td>308774.000000</td>\n",
              "    </tr>\n",
              "    <tr>\n",
              "      <th>unique</th>\n",
              "      <td>5</td>\n",
              "      <td>5</td>\n",
              "      <td>2</td>\n",
              "      <td>2</td>\n",
              "      <td>2</td>\n",
              "      <td>2</td>\n",
              "      <td>2</td>\n",
              "      <td>4</td>\n",
              "      <td>2</td>\n",
              "      <td>2</td>\n",
              "      <td>13</td>\n",
              "      <td>NaN</td>\n",
              "      <td>NaN</td>\n",
              "      <td>NaN</td>\n",
              "      <td>2</td>\n",
              "      <td>NaN</td>\n",
              "      <td>NaN</td>\n",
              "      <td>NaN</td>\n",
              "      <td>NaN</td>\n",
              "    </tr>\n",
              "    <tr>\n",
              "      <th>top</th>\n",
              "      <td>Very Good</td>\n",
              "      <td>Within the past year</td>\n",
              "      <td>Yes</td>\n",
              "      <td>No</td>\n",
              "      <td>No</td>\n",
              "      <td>No</td>\n",
              "      <td>No</td>\n",
              "      <td>No</td>\n",
              "      <td>No</td>\n",
              "      <td>Female</td>\n",
              "      <td>65-69</td>\n",
              "      <td>NaN</td>\n",
              "      <td>NaN</td>\n",
              "      <td>NaN</td>\n",
              "      <td>No</td>\n",
              "      <td>NaN</td>\n",
              "      <td>NaN</td>\n",
              "      <td>NaN</td>\n",
              "      <td>NaN</td>\n",
              "    </tr>\n",
              "    <tr>\n",
              "      <th>freq</th>\n",
              "      <td>110351</td>\n",
              "      <td>239295</td>\n",
              "      <td>239305</td>\n",
              "      <td>283803</td>\n",
              "      <td>278782</td>\n",
              "      <td>278897</td>\n",
              "      <td>246875</td>\n",
              "      <td>259062</td>\n",
              "      <td>207711</td>\n",
              "      <td>160155</td>\n",
              "      <td>33425</td>\n",
              "      <td>NaN</td>\n",
              "      <td>NaN</td>\n",
              "      <td>NaN</td>\n",
              "      <td>183516</td>\n",
              "      <td>NaN</td>\n",
              "      <td>NaN</td>\n",
              "      <td>NaN</td>\n",
              "      <td>NaN</td>\n",
              "    </tr>\n",
              "    <tr>\n",
              "      <th>mean</th>\n",
              "      <td>NaN</td>\n",
              "      <td>NaN</td>\n",
              "      <td>NaN</td>\n",
              "      <td>NaN</td>\n",
              "      <td>NaN</td>\n",
              "      <td>NaN</td>\n",
              "      <td>NaN</td>\n",
              "      <td>NaN</td>\n",
              "      <td>NaN</td>\n",
              "      <td>NaN</td>\n",
              "      <td>NaN</td>\n",
              "      <td>170.615220</td>\n",
              "      <td>83.590399</td>\n",
              "      <td>28.626813</td>\n",
              "      <td>NaN</td>\n",
              "      <td>5.097557</td>\n",
              "      <td>29.834290</td>\n",
              "      <td>15.109517</td>\n",
              "      <td>6.297237</td>\n",
              "    </tr>\n",
              "    <tr>\n",
              "      <th>std</th>\n",
              "      <td>NaN</td>\n",
              "      <td>NaN</td>\n",
              "      <td>NaN</td>\n",
              "      <td>NaN</td>\n",
              "      <td>NaN</td>\n",
              "      <td>NaN</td>\n",
              "      <td>NaN</td>\n",
              "      <td>NaN</td>\n",
              "      <td>NaN</td>\n",
              "      <td>NaN</td>\n",
              "      <td>NaN</td>\n",
              "      <td>10.658452</td>\n",
              "      <td>21.344664</td>\n",
              "      <td>6.522810</td>\n",
              "      <td>NaN</td>\n",
              "      <td>8.200434</td>\n",
              "      <td>24.877812</td>\n",
              "      <td>14.926912</td>\n",
              "      <td>8.583837</td>\n",
              "    </tr>\n",
              "    <tr>\n",
              "      <th>min</th>\n",
              "      <td>NaN</td>\n",
              "      <td>NaN</td>\n",
              "      <td>NaN</td>\n",
              "      <td>NaN</td>\n",
              "      <td>NaN</td>\n",
              "      <td>NaN</td>\n",
              "      <td>NaN</td>\n",
              "      <td>NaN</td>\n",
              "      <td>NaN</td>\n",
              "      <td>NaN</td>\n",
              "      <td>NaN</td>\n",
              "      <td>91.000000</td>\n",
              "      <td>24.950000</td>\n",
              "      <td>12.020000</td>\n",
              "      <td>NaN</td>\n",
              "      <td>0.000000</td>\n",
              "      <td>0.000000</td>\n",
              "      <td>0.000000</td>\n",
              "      <td>0.000000</td>\n",
              "    </tr>\n",
              "    <tr>\n",
              "      <th>25%</th>\n",
              "      <td>NaN</td>\n",
              "      <td>NaN</td>\n",
              "      <td>NaN</td>\n",
              "      <td>NaN</td>\n",
              "      <td>NaN</td>\n",
              "      <td>NaN</td>\n",
              "      <td>NaN</td>\n",
              "      <td>NaN</td>\n",
              "      <td>NaN</td>\n",
              "      <td>NaN</td>\n",
              "      <td>NaN</td>\n",
              "      <td>163.000000</td>\n",
              "      <td>68.040000</td>\n",
              "      <td>24.210000</td>\n",
              "      <td>NaN</td>\n",
              "      <td>0.000000</td>\n",
              "      <td>12.000000</td>\n",
              "      <td>4.000000</td>\n",
              "      <td>2.000000</td>\n",
              "    </tr>\n",
              "    <tr>\n",
              "      <th>50%</th>\n",
              "      <td>NaN</td>\n",
              "      <td>NaN</td>\n",
              "      <td>NaN</td>\n",
              "      <td>NaN</td>\n",
              "      <td>NaN</td>\n",
              "      <td>NaN</td>\n",
              "      <td>NaN</td>\n",
              "      <td>NaN</td>\n",
              "      <td>NaN</td>\n",
              "      <td>NaN</td>\n",
              "      <td>NaN</td>\n",
              "      <td>170.000000</td>\n",
              "      <td>81.650000</td>\n",
              "      <td>27.440000</td>\n",
              "      <td>NaN</td>\n",
              "      <td>1.000000</td>\n",
              "      <td>30.000000</td>\n",
              "      <td>12.000000</td>\n",
              "      <td>4.000000</td>\n",
              "    </tr>\n",
              "    <tr>\n",
              "      <th>75%</th>\n",
              "      <td>NaN</td>\n",
              "      <td>NaN</td>\n",
              "      <td>NaN</td>\n",
              "      <td>NaN</td>\n",
              "      <td>NaN</td>\n",
              "      <td>NaN</td>\n",
              "      <td>NaN</td>\n",
              "      <td>NaN</td>\n",
              "      <td>NaN</td>\n",
              "      <td>NaN</td>\n",
              "      <td>NaN</td>\n",
              "      <td>178.000000</td>\n",
              "      <td>95.250000</td>\n",
              "      <td>31.850000</td>\n",
              "      <td>NaN</td>\n",
              "      <td>6.000000</td>\n",
              "      <td>30.000000</td>\n",
              "      <td>20.000000</td>\n",
              "      <td>8.000000</td>\n",
              "    </tr>\n",
              "    <tr>\n",
              "      <th>max</th>\n",
              "      <td>NaN</td>\n",
              "      <td>NaN</td>\n",
              "      <td>NaN</td>\n",
              "      <td>NaN</td>\n",
              "      <td>NaN</td>\n",
              "      <td>NaN</td>\n",
              "      <td>NaN</td>\n",
              "      <td>NaN</td>\n",
              "      <td>NaN</td>\n",
              "      <td>NaN</td>\n",
              "      <td>NaN</td>\n",
              "      <td>241.000000</td>\n",
              "      <td>293.020000</td>\n",
              "      <td>99.330000</td>\n",
              "      <td>NaN</td>\n",
              "      <td>30.000000</td>\n",
              "      <td>120.000000</td>\n",
              "      <td>128.000000</td>\n",
              "      <td>128.000000</td>\n",
              "    </tr>\n",
              "  </tbody>\n",
              "</table>\n",
              "</div>"
            ],
            "text/plain": [
              "       General_Health               Checkup Exercise Heart_Disease  \\\n",
              "count          308774                308774   308774        308774   \n",
              "unique              5                     5        2             2   \n",
              "top         Very Good  Within the past year      Yes            No   \n",
              "freq           110351                239295   239305        283803   \n",
              "mean              NaN                   NaN      NaN           NaN   \n",
              "std               NaN                   NaN      NaN           NaN   \n",
              "min               NaN                   NaN      NaN           NaN   \n",
              "25%               NaN                   NaN      NaN           NaN   \n",
              "50%               NaN                   NaN      NaN           NaN   \n",
              "75%               NaN                   NaN      NaN           NaN   \n",
              "max               NaN                   NaN      NaN           NaN   \n",
              "\n",
              "       Skin_Cancer Other_Cancer Depression Diabetes Arthritis     Sex  \\\n",
              "count       308774       308774     308774   308774    308774  308774   \n",
              "unique           2            2          2        4         2       2   \n",
              "top             No           No         No       No        No  Female   \n",
              "freq        278782       278897     246875   259062    207711  160155   \n",
              "mean           NaN          NaN        NaN      NaN       NaN     NaN   \n",
              "std            NaN          NaN        NaN      NaN       NaN     NaN   \n",
              "min            NaN          NaN        NaN      NaN       NaN     NaN   \n",
              "25%            NaN          NaN        NaN      NaN       NaN     NaN   \n",
              "50%            NaN          NaN        NaN      NaN       NaN     NaN   \n",
              "75%            NaN          NaN        NaN      NaN       NaN     NaN   \n",
              "max            NaN          NaN        NaN      NaN       NaN     NaN   \n",
              "\n",
              "       Age_Category    Height_(cm)    Weight_(kg)            BMI  \\\n",
              "count        308774  308774.000000  308774.000000  308774.000000   \n",
              "unique           13            NaN            NaN            NaN   \n",
              "top           65-69            NaN            NaN            NaN   \n",
              "freq          33425            NaN            NaN            NaN   \n",
              "mean            NaN     170.615220      83.590399      28.626813   \n",
              "std             NaN      10.658452      21.344664       6.522810   \n",
              "min             NaN      91.000000      24.950000      12.020000   \n",
              "25%             NaN     163.000000      68.040000      24.210000   \n",
              "50%             NaN     170.000000      81.650000      27.440000   \n",
              "75%             NaN     178.000000      95.250000      31.850000   \n",
              "max             NaN     241.000000     293.020000      99.330000   \n",
              "\n",
              "       Smoking_History  Alcohol_Consumption  Fruit_Consumption  \\\n",
              "count           308774        308774.000000      308774.000000   \n",
              "unique               2                  NaN                NaN   \n",
              "top                 No                  NaN                NaN   \n",
              "freq            183516                  NaN                NaN   \n",
              "mean               NaN             5.097557          29.834290   \n",
              "std                NaN             8.200434          24.877812   \n",
              "min                NaN             0.000000           0.000000   \n",
              "25%                NaN             0.000000          12.000000   \n",
              "50%                NaN             1.000000          30.000000   \n",
              "75%                NaN             6.000000          30.000000   \n",
              "max                NaN            30.000000         120.000000   \n",
              "\n",
              "        Green_Vegetables_Consumption  FriedPotato_Consumption  \n",
              "count                  308774.000000            308774.000000  \n",
              "unique                           NaN                      NaN  \n",
              "top                              NaN                      NaN  \n",
              "freq                             NaN                      NaN  \n",
              "mean                       15.109517                 6.297237  \n",
              "std                        14.926912                 8.583837  \n",
              "min                         0.000000                 0.000000  \n",
              "25%                         4.000000                 2.000000  \n",
              "50%                        12.000000                 4.000000  \n",
              "75%                        20.000000                 8.000000  \n",
              "max                       128.000000               128.000000  "
            ]
          },
          "execution_count": 7,
          "metadata": {},
          "output_type": "execute_result"
        }
      ],
      "source": [
        "df.describe(include = 'all')"
      ]
    },
    {
      "cell_type": "code",
      "execution_count": 8,
      "metadata": {
        "colab": {
          "base_uri": "https://localhost:8080/",
          "height": 774
        },
        "id": "48mY50zyeBJY",
        "outputId": "f02f834a-cb26-4717-87ce-cc90ad969790"
      },
      "outputs": [
        {
          "data": {
            "text/html": [
              "<div>\n",
              "<style scoped>\n",
              "    .dataframe tbody tr th:only-of-type {\n",
              "        vertical-align: middle;\n",
              "    }\n",
              "\n",
              "    .dataframe tbody tr th {\n",
              "        vertical-align: top;\n",
              "    }\n",
              "\n",
              "    .dataframe thead th {\n",
              "        text-align: right;\n",
              "    }\n",
              "</style>\n",
              "<table border=\"1\" class=\"dataframe\">\n",
              "  <thead>\n",
              "    <tr style=\"text-align: right;\">\n",
              "      <th></th>\n",
              "      <th>General_Health</th>\n",
              "      <th>Checkup</th>\n",
              "      <th>Exercise</th>\n",
              "      <th>Skin_Cancer</th>\n",
              "      <th>Other_Cancer</th>\n",
              "      <th>Depression</th>\n",
              "      <th>Diabetes</th>\n",
              "      <th>Arthritis</th>\n",
              "      <th>Sex</th>\n",
              "      <th>Age_Category</th>\n",
              "      <th>Height_(cm)</th>\n",
              "      <th>Weight_(kg)</th>\n",
              "      <th>BMI</th>\n",
              "      <th>Smoking_History</th>\n",
              "      <th>Alcohol_Consumption</th>\n",
              "      <th>Fruit_Consumption</th>\n",
              "      <th>Green_Vegetables_Consumption</th>\n",
              "      <th>FriedPotato_Consumption</th>\n",
              "      <th>Heart_Disease</th>\n",
              "    </tr>\n",
              "  </thead>\n",
              "  <tbody>\n",
              "    <tr>\n",
              "      <th>0</th>\n",
              "      <td>Poor</td>\n",
              "      <td>Within the past 2 years</td>\n",
              "      <td>No</td>\n",
              "      <td>No</td>\n",
              "      <td>No</td>\n",
              "      <td>No</td>\n",
              "      <td>No</td>\n",
              "      <td>Yes</td>\n",
              "      <td>Female</td>\n",
              "      <td>70-74</td>\n",
              "      <td>150.0</td>\n",
              "      <td>32.66</td>\n",
              "      <td>14.54</td>\n",
              "      <td>Yes</td>\n",
              "      <td>0.0</td>\n",
              "      <td>30.0</td>\n",
              "      <td>16.0</td>\n",
              "      <td>12.0</td>\n",
              "      <td>No</td>\n",
              "    </tr>\n",
              "    <tr>\n",
              "      <th>1</th>\n",
              "      <td>Very Good</td>\n",
              "      <td>Within the past year</td>\n",
              "      <td>No</td>\n",
              "      <td>No</td>\n",
              "      <td>No</td>\n",
              "      <td>No</td>\n",
              "      <td>Yes</td>\n",
              "      <td>No</td>\n",
              "      <td>Female</td>\n",
              "      <td>70-74</td>\n",
              "      <td>165.0</td>\n",
              "      <td>77.11</td>\n",
              "      <td>28.29</td>\n",
              "      <td>No</td>\n",
              "      <td>0.0</td>\n",
              "      <td>30.0</td>\n",
              "      <td>0.0</td>\n",
              "      <td>4.0</td>\n",
              "      <td>Yes</td>\n",
              "    </tr>\n",
              "    <tr>\n",
              "      <th>2</th>\n",
              "      <td>Very Good</td>\n",
              "      <td>Within the past year</td>\n",
              "      <td>Yes</td>\n",
              "      <td>No</td>\n",
              "      <td>No</td>\n",
              "      <td>No</td>\n",
              "      <td>Yes</td>\n",
              "      <td>No</td>\n",
              "      <td>Female</td>\n",
              "      <td>60-64</td>\n",
              "      <td>163.0</td>\n",
              "      <td>88.45</td>\n",
              "      <td>33.47</td>\n",
              "      <td>No</td>\n",
              "      <td>4.0</td>\n",
              "      <td>12.0</td>\n",
              "      <td>3.0</td>\n",
              "      <td>16.0</td>\n",
              "      <td>No</td>\n",
              "    </tr>\n",
              "    <tr>\n",
              "      <th>3</th>\n",
              "      <td>Poor</td>\n",
              "      <td>Within the past year</td>\n",
              "      <td>Yes</td>\n",
              "      <td>No</td>\n",
              "      <td>No</td>\n",
              "      <td>No</td>\n",
              "      <td>Yes</td>\n",
              "      <td>No</td>\n",
              "      <td>Male</td>\n",
              "      <td>75-79</td>\n",
              "      <td>180.0</td>\n",
              "      <td>93.44</td>\n",
              "      <td>28.73</td>\n",
              "      <td>No</td>\n",
              "      <td>0.0</td>\n",
              "      <td>30.0</td>\n",
              "      <td>30.0</td>\n",
              "      <td>8.0</td>\n",
              "      <td>Yes</td>\n",
              "    </tr>\n",
              "    <tr>\n",
              "      <th>4</th>\n",
              "      <td>Good</td>\n",
              "      <td>Within the past year</td>\n",
              "      <td>No</td>\n",
              "      <td>No</td>\n",
              "      <td>No</td>\n",
              "      <td>No</td>\n",
              "      <td>No</td>\n",
              "      <td>No</td>\n",
              "      <td>Male</td>\n",
              "      <td>80+</td>\n",
              "      <td>191.0</td>\n",
              "      <td>88.45</td>\n",
              "      <td>24.37</td>\n",
              "      <td>Yes</td>\n",
              "      <td>0.0</td>\n",
              "      <td>8.0</td>\n",
              "      <td>4.0</td>\n",
              "      <td>0.0</td>\n",
              "      <td>No</td>\n",
              "    </tr>\n",
              "    <tr>\n",
              "      <th>5</th>\n",
              "      <td>Good</td>\n",
              "      <td>Within the past year</td>\n",
              "      <td>No</td>\n",
              "      <td>No</td>\n",
              "      <td>No</td>\n",
              "      <td>Yes</td>\n",
              "      <td>No</td>\n",
              "      <td>Yes</td>\n",
              "      <td>Male</td>\n",
              "      <td>60-64</td>\n",
              "      <td>183.0</td>\n",
              "      <td>154.22</td>\n",
              "      <td>46.11</td>\n",
              "      <td>No</td>\n",
              "      <td>0.0</td>\n",
              "      <td>12.0</td>\n",
              "      <td>12.0</td>\n",
              "      <td>12.0</td>\n",
              "      <td>No</td>\n",
              "    </tr>\n",
              "    <tr>\n",
              "      <th>6</th>\n",
              "      <td>Fair</td>\n",
              "      <td>Within the past year</td>\n",
              "      <td>Yes</td>\n",
              "      <td>No</td>\n",
              "      <td>No</td>\n",
              "      <td>No</td>\n",
              "      <td>No</td>\n",
              "      <td>Yes</td>\n",
              "      <td>Male</td>\n",
              "      <td>60-64</td>\n",
              "      <td>175.0</td>\n",
              "      <td>69.85</td>\n",
              "      <td>22.74</td>\n",
              "      <td>Yes</td>\n",
              "      <td>0.0</td>\n",
              "      <td>16.0</td>\n",
              "      <td>8.0</td>\n",
              "      <td>0.0</td>\n",
              "      <td>Yes</td>\n",
              "    </tr>\n",
              "    <tr>\n",
              "      <th>7</th>\n",
              "      <td>Good</td>\n",
              "      <td>Within the past year</td>\n",
              "      <td>Yes</td>\n",
              "      <td>No</td>\n",
              "      <td>No</td>\n",
              "      <td>No</td>\n",
              "      <td>No</td>\n",
              "      <td>Yes</td>\n",
              "      <td>Female</td>\n",
              "      <td>65-69</td>\n",
              "      <td>165.0</td>\n",
              "      <td>108.86</td>\n",
              "      <td>39.94</td>\n",
              "      <td>Yes</td>\n",
              "      <td>3.0</td>\n",
              "      <td>30.0</td>\n",
              "      <td>8.0</td>\n",
              "      <td>8.0</td>\n",
              "      <td>No</td>\n",
              "    </tr>\n",
              "    <tr>\n",
              "      <th>8</th>\n",
              "      <td>Fair</td>\n",
              "      <td>Within the past year</td>\n",
              "      <td>No</td>\n",
              "      <td>No</td>\n",
              "      <td>No</td>\n",
              "      <td>Yes</td>\n",
              "      <td>No</td>\n",
              "      <td>No</td>\n",
              "      <td>Female</td>\n",
              "      <td>65-69</td>\n",
              "      <td>163.0</td>\n",
              "      <td>72.57</td>\n",
              "      <td>27.46</td>\n",
              "      <td>Yes</td>\n",
              "      <td>0.0</td>\n",
              "      <td>12.0</td>\n",
              "      <td>12.0</td>\n",
              "      <td>4.0</td>\n",
              "      <td>No</td>\n",
              "    </tr>\n",
              "    <tr>\n",
              "      <th>9</th>\n",
              "      <td>Fair</td>\n",
              "      <td>Within the past year</td>\n",
              "      <td>No</td>\n",
              "      <td>No</td>\n",
              "      <td>No</td>\n",
              "      <td>No</td>\n",
              "      <td>Yes</td>\n",
              "      <td>Yes</td>\n",
              "      <td>Female</td>\n",
              "      <td>70-74</td>\n",
              "      <td>163.0</td>\n",
              "      <td>91.63</td>\n",
              "      <td>34.67</td>\n",
              "      <td>No</td>\n",
              "      <td>0.0</td>\n",
              "      <td>12.0</td>\n",
              "      <td>12.0</td>\n",
              "      <td>1.0</td>\n",
              "      <td>No</td>\n",
              "    </tr>\n",
              "  </tbody>\n",
              "</table>\n",
              "</div>"
            ],
            "text/plain": [
              "  General_Health                  Checkup Exercise Skin_Cancer Other_Cancer  \\\n",
              "0           Poor  Within the past 2 years       No          No           No   \n",
              "1      Very Good     Within the past year       No          No           No   \n",
              "2      Very Good     Within the past year      Yes          No           No   \n",
              "3           Poor     Within the past year      Yes          No           No   \n",
              "4           Good     Within the past year       No          No           No   \n",
              "5           Good     Within the past year       No          No           No   \n",
              "6           Fair     Within the past year      Yes          No           No   \n",
              "7           Good     Within the past year      Yes          No           No   \n",
              "8           Fair     Within the past year       No          No           No   \n",
              "9           Fair     Within the past year       No          No           No   \n",
              "\n",
              "  Depression Diabetes Arthritis     Sex Age_Category  Height_(cm)  \\\n",
              "0         No       No       Yes  Female        70-74        150.0   \n",
              "1         No      Yes        No  Female        70-74        165.0   \n",
              "2         No      Yes        No  Female        60-64        163.0   \n",
              "3         No      Yes        No    Male        75-79        180.0   \n",
              "4         No       No        No    Male          80+        191.0   \n",
              "5        Yes       No       Yes    Male        60-64        183.0   \n",
              "6         No       No       Yes    Male        60-64        175.0   \n",
              "7         No       No       Yes  Female        65-69        165.0   \n",
              "8        Yes       No        No  Female        65-69        163.0   \n",
              "9         No      Yes       Yes  Female        70-74        163.0   \n",
              "\n",
              "   Weight_(kg)    BMI Smoking_History  Alcohol_Consumption  Fruit_Consumption  \\\n",
              "0        32.66  14.54             Yes                  0.0               30.0   \n",
              "1        77.11  28.29              No                  0.0               30.0   \n",
              "2        88.45  33.47              No                  4.0               12.0   \n",
              "3        93.44  28.73              No                  0.0               30.0   \n",
              "4        88.45  24.37             Yes                  0.0                8.0   \n",
              "5       154.22  46.11              No                  0.0               12.0   \n",
              "6        69.85  22.74             Yes                  0.0               16.0   \n",
              "7       108.86  39.94             Yes                  3.0               30.0   \n",
              "8        72.57  27.46             Yes                  0.0               12.0   \n",
              "9        91.63  34.67              No                  0.0               12.0   \n",
              "\n",
              "   Green_Vegetables_Consumption  FriedPotato_Consumption Heart_Disease  \n",
              "0                          16.0                     12.0            No  \n",
              "1                           0.0                      4.0           Yes  \n",
              "2                           3.0                     16.0            No  \n",
              "3                          30.0                      8.0           Yes  \n",
              "4                           4.0                      0.0            No  \n",
              "5                          12.0                     12.0            No  \n",
              "6                           8.0                      0.0           Yes  \n",
              "7                           8.0                      8.0            No  \n",
              "8                          12.0                      4.0            No  \n",
              "9                          12.0                      1.0            No  "
            ]
          },
          "execution_count": 8,
          "metadata": {},
          "output_type": "execute_result"
        }
      ],
      "source": [
        "# Bringing \"Heart_Disease\" column to the end of the dataset\n",
        "\n",
        "df = df[['General_Health','Checkup', 'Exercise', 'Skin_Cancer',\n",
        "       'Other_Cancer', 'Depression', 'Diabetes', 'Arthritis', 'Sex',\n",
        "       'Age_Category', 'Height_(cm)', 'Weight_(kg)', 'BMI', 'Smoking_History',\n",
        "       'Alcohol_Consumption', 'Fruit_Consumption',\n",
        "       'Green_Vegetables_Consumption', 'FriedPotato_Consumption','Heart_Disease']]\n",
        "\n",
        "df.head(10)"
      ]
    },
    {
      "cell_type": "code",
      "execution_count": 9,
      "metadata": {
        "colab": {
          "base_uri": "https://localhost:8080/"
        },
        "id": "-gEba_ijrpIw",
        "outputId": "56741f36-a5ce-410e-96eb-0e7a797f3aef"
      },
      "outputs": [
        {
          "data": {
            "text/plain": [
              "General_Health                  0\n",
              "Checkup                         0\n",
              "Exercise                        0\n",
              "Skin_Cancer                     0\n",
              "Other_Cancer                    0\n",
              "Depression                      0\n",
              "Diabetes                        0\n",
              "Arthritis                       0\n",
              "Sex                             0\n",
              "Age_Category                    0\n",
              "Height_(cm)                     0\n",
              "Weight_(kg)                     0\n",
              "BMI                             0\n",
              "Smoking_History                 0\n",
              "Alcohol_Consumption             0\n",
              "Fruit_Consumption               0\n",
              "Green_Vegetables_Consumption    0\n",
              "FriedPotato_Consumption         0\n",
              "Heart_Disease                   0\n",
              "dtype: int64"
            ]
          },
          "execution_count": 9,
          "metadata": {},
          "output_type": "execute_result"
        }
      ],
      "source": [
        "# Looking for any NA values \n",
        "\n",
        "df.isnull().sum()"
      ]
    },
    {
      "cell_type": "markdown",
      "metadata": {
        "id": "CgoIS6xWkYaC"
      },
      "source": [
        "# Data Visualization"
      ]
    },
    {
      "cell_type": "code",
      "execution_count": 10,
      "metadata": {
        "colab": {
          "base_uri": "https://localhost:8080/",
          "height": 480
        },
        "id": "ld5wZ-YBeZ_o",
        "outputId": "576bdfe3-8bff-4c63-ce8d-5e2ad8f0d568"
      },
      "outputs": [
        {
          "data": {
            "image/png": "[encoded data removed]",
            "text/plain": [
              "<Figure size 432x288 with 1 Axes>"
            ]
          },
          "metadata": {
            "needs_background": "light"
          },
          "output_type": "display_data"
        }
      ],
      "source": [
        "# Create a count plot using pandas' built-in functionality\n",
        "count_plot = df['Heart_Disease'].value_counts().plot(kind='bar')\n",
        "\n",
        "# Adding labels and title\n",
        "count_plot.set_xlabel('Heart_Disease')\n",
        "count_plot.set_ylabel('Count')\n",
        "count_plot.set_title('Count Plot of Heart_Disease')\n",
        "\n",
        "plt.show()"
      ]
    },
    {
      "cell_type": "code",
      "execution_count": 11,
      "metadata": {
        "colab": {
          "base_uri": "https://localhost:8080/",
          "height": 480
        },
        "id": "u4cvG_akouse",
        "outputId": "15d1f64e-d871-4bf6-ceea-988a5998e82d"
      },
      "outputs": [
        {
          "data": {
            "image/png": "[encoded data removed]",
            "text/plain": [
              "<Figure size 432x288 with 1 Axes>"
            ]
          },
          "metadata": {
            "needs_background": "light"
          },
          "output_type": "display_data"
        }
      ],
      "source": [
        "# Create a count plot using pandas' built-in functionality\n",
        "count_plot = df['Skin_Cancer'].value_counts().plot(kind='bar')\n",
        "\n",
        "# Adding labels and title\n",
        "count_plot.set_xlabel('Skin_Cancer')\n",
        "count_plot.set_ylabel('Count')\n",
        "count_plot.set_title('Count Plot of Skin_Cancer')\n",
        "\n",
        "plt.show()"
      ]
    },
    {
      "cell_type": "code",
      "execution_count": 12,
      "metadata": {
        "colab": {
          "base_uri": "https://localhost:8080/",
          "height": 807
        },
        "id": "Bm4mnSUYl72X",
        "outputId": "31947da9-ebe2-4aec-9fae-90e909849865"
      },
      "outputs": [
        {
          "data": {
            "image/png": "[encoded data removed]",
            "text/plain": [
              "<Figure size 1152x576 with 1 Axes>"
            ]
          },
          "metadata": {
            "needs_background": "light"
          },
          "output_type": "display_data"
        }
      ],
      "source": [
        "# Count the occurrences of each category\n",
        "count_data = df['Checkup'].value_counts()\n",
        "\n",
        "# Create a horizontal bar plot using matplotlib with custom colors\n",
        "plt.figure(figsize=(16, 8))  # Adjust the figure size\n",
        "\n",
        "# Plot the bars with different colors\n",
        "colors = ['skyblue', 'lightgreen', 'orange', 'lightcoral', 'lightblue', 'pink']\n",
        "bars = plt.barh(count_data.index, count_data.values, color=colors)\n",
        "\n",
        "# Annotate the bars\n",
        "for bar in bars:\n",
        "    value = bar.get_width() / 1000  # Convert width to thousands\n",
        "    plt.text(bar.get_width() + 0.2,\n",
        "             bar.get_y() + bar.get_height()/2,\n",
        "             f'{value:.1f}K',  # Format the value to display in thousands\n",
        "             va='center_baseline',\n",
        "             ha='left',\n",
        "             color='black')\n",
        "\n",
        "# Remove the grid lines\n",
        "plt.grid(False)\n",
        "\n",
        "plt.xlabel('Count')\n",
        "plt.ylabel('CheckUp')\n",
        "plt.title('Horizontal Bar Plot of CheckUps')\n",
        "\n",
        "plt.tight_layout()\n",
        "plt.show()"
      ]
    },
    {
      "cell_type": "code",
      "execution_count": 13,
      "metadata": {
        "colab": {
          "base_uri": "https://localhost:8080/",
          "height": 807
        },
        "id": "SNyYBiQ4j7Tf",
        "outputId": "8a7171a8-0356-4434-e58d-18aad80a2a62"
      },
      "outputs": [
        {
          "data": {
            "image/png": "[encoded data removed]",
            "text/plain": [
              "<Figure size 1152x576 with 1 Axes>"
            ]
          },
          "metadata": {
            "needs_background": "light"
          },
          "output_type": "display_data"
        }
      ],
      "source": [
        "# Count the occurrences of each category\n",
        "count_data = df['Age_Category'].value_counts()\n",
        "\n",
        "# Create a horizontal bar plot using matplotlib with custom colors\n",
        "plt.figure(figsize=(16, 8))  # Adjust the figure size\n",
        "\n",
        "bars = plt.barh(count_data.index, count_data.values)\n",
        "\n",
        "# Annotate the bars\n",
        "for bar in bars:\n",
        "    value = bar.get_width() / 1000  # Convert width to thousands\n",
        "    plt.text(bar.get_width() + 0.2,\n",
        "             bar.get_y() + bar.get_height()/2,\n",
        "             f'{value:.1f}K',  # Format the value to display in thousands\n",
        "             va='center_baseline',\n",
        "             ha='left',\n",
        "             color='black')\n",
        "\n",
        "# Remove the grid lines\n",
        "plt.grid(False)\n",
        "\n",
        "plt.xlabel('Count')\n",
        "plt.ylabel('Age_Category')\n",
        "plt.title('Horizontal Bar Plot of Age_Category')\n",
        "\n",
        "plt.tight_layout()\n",
        "plt.show()"
      ]
    },
    {
      "cell_type": "code",
      "execution_count": 14,
      "metadata": {
        "colab": {
          "base_uri": "https://localhost:8080/",
          "height": 807
        },
        "id": "Es6VJmKKK8JC",
        "outputId": "08cbd4bc-0350-4be5-8950-a745de733b23"
      },
      "outputs": [
        {
          "data": {
            "image/png": "[encoded data removed]",
            "text/plain": [
              "<Figure size 1152x576 with 1 Axes>"
            ]
          },
          "metadata": {
            "needs_background": "light"
          },
          "output_type": "display_data"
        }
      ],
      "source": [
        "# Count the occurrences of each category\n",
        "count_data = df['General_Health'].value_counts()\n",
        "\n",
        "# Create a horizontal bar plot using matplotlib with custom colors\n",
        "plt.figure(figsize=(16, 8))  # Adjust the figure size\n",
        "\n",
        "# Plot the bars with different colors\n",
        "colors = ['skyblue', 'lightgreen', 'orange', 'lightcoral', 'lightblue', 'pink']\n",
        "bars = plt.barh(count_data.index, count_data.values, color=colors)\n",
        "\n",
        "# Annotate the bars\n",
        "for bar in bars:\n",
        "    value = bar.get_width() / 1000  # Convert width to thousands\n",
        "    plt.text(bar.get_width() + 0.2,\n",
        "             bar.get_y() + bar.get_height()/2,\n",
        "             f'{value:.1f}K',  # Format the value to display in thousands\n",
        "             va='center_baseline',\n",
        "             ha='left',\n",
        "             color='black')\n",
        "\n",
        "# Remove the grid lines\n",
        "plt.grid(False)\n",
        "\n",
        "plt.xlabel('Count')\n",
        "plt.ylabel('General_Health')\n",
        "plt.title('Horizontal Bar Plot of General_Health')\n",
        "\n",
        "plt.tight_layout()\n",
        "plt.show()"
      ]
    },
    {
      "cell_type": "markdown",
      "metadata": {
        "id": "iuMCyRoJkgdF"
      },
      "source": [
        "# Data Preprocessing"
      ]
    },
    {
      "cell_type": "code",
      "execution_count": 15,
      "metadata": {
        "colab": {
          "base_uri": "https://localhost:8080/",
          "height": 444
        },
        "id": "za4d76WvwYX1",
        "outputId": "3ef3f46c-120b-4743-a7b8-5eee8990a44c"
      },
      "outputs": [
        {
          "data": {
            "text/html": [
              "<div>\n",
              "<style scoped>\n",
              "    .dataframe tbody tr th:only-of-type {\n",
              "        vertical-align: middle;\n",
              "    }\n",
              "\n",
              "    .dataframe tbody tr th {\n",
              "        vertical-align: top;\n",
              "    }\n",
              "\n",
              "    .dataframe thead th {\n",
              "        text-align: right;\n",
              "    }\n",
              "</style>\n",
              "<table border=\"1\" class=\"dataframe\">\n",
              "  <thead>\n",
              "    <tr style=\"text-align: right;\">\n",
              "      <th></th>\n",
              "      <th>General_Health</th>\n",
              "      <th>Checkup</th>\n",
              "      <th>Exercise</th>\n",
              "      <th>Skin_Cancer</th>\n",
              "      <th>Other_Cancer</th>\n",
              "      <th>Depression</th>\n",
              "      <th>Diabetes</th>\n",
              "      <th>Arthritis</th>\n",
              "      <th>Sex</th>\n",
              "      <th>Age_Category</th>\n",
              "      <th>Height_(cm)</th>\n",
              "      <th>Weight_(kg)</th>\n",
              "      <th>BMI</th>\n",
              "      <th>Smoking_History</th>\n",
              "      <th>Alcohol_Consumption</th>\n",
              "      <th>Fruit_Consumption</th>\n",
              "      <th>Green_Vegetables_Consumption</th>\n",
              "      <th>FriedPotato_Consumption</th>\n",
              "      <th>Heart_Disease</th>\n",
              "    </tr>\n",
              "  </thead>\n",
              "  <tbody>\n",
              "    <tr>\n",
              "      <th>0</th>\n",
              "      <td>Poor</td>\n",
              "      <td>Within the past 2 years</td>\n",
              "      <td>No</td>\n",
              "      <td>No</td>\n",
              "      <td>No</td>\n",
              "      <td>No</td>\n",
              "      <td>No</td>\n",
              "      <td>Yes</td>\n",
              "      <td>Female</td>\n",
              "      <td>70-74</td>\n",
              "      <td>150.0</td>\n",
              "      <td>32.66</td>\n",
              "      <td>14.54</td>\n",
              "      <td>Yes</td>\n",
              "      <td>0.0</td>\n",
              "      <td>30.0</td>\n",
              "      <td>16.0</td>\n",
              "      <td>12.0</td>\n",
              "      <td>No</td>\n",
              "    </tr>\n",
              "    <tr>\n",
              "      <th>1</th>\n",
              "      <td>Very Good</td>\n",
              "      <td>Within the past year</td>\n",
              "      <td>No</td>\n",
              "      <td>No</td>\n",
              "      <td>No</td>\n",
              "      <td>No</td>\n",
              "      <td>Yes</td>\n",
              "      <td>No</td>\n",
              "      <td>Female</td>\n",
              "      <td>70-74</td>\n",
              "      <td>165.0</td>\n",
              "      <td>77.11</td>\n",
              "      <td>28.29</td>\n",
              "      <td>No</td>\n",
              "      <td>0.0</td>\n",
              "      <td>30.0</td>\n",
              "      <td>0.0</td>\n",
              "      <td>4.0</td>\n",
              "      <td>Yes</td>\n",
              "    </tr>\n",
              "    <tr>\n",
              "      <th>2</th>\n",
              "      <td>Very Good</td>\n",
              "      <td>Within the past year</td>\n",
              "      <td>Yes</td>\n",
              "      <td>No</td>\n",
              "      <td>No</td>\n",
              "      <td>No</td>\n",
              "      <td>Yes</td>\n",
              "      <td>No</td>\n",
              "      <td>Female</td>\n",
              "      <td>60-64</td>\n",
              "      <td>163.0</td>\n",
              "      <td>88.45</td>\n",
              "      <td>33.47</td>\n",
              "      <td>No</td>\n",
              "      <td>4.0</td>\n",
              "      <td>12.0</td>\n",
              "      <td>3.0</td>\n",
              "      <td>16.0</td>\n",
              "      <td>No</td>\n",
              "    </tr>\n",
              "    <tr>\n",
              "      <th>3</th>\n",
              "      <td>Poor</td>\n",
              "      <td>Within the past year</td>\n",
              "      <td>Yes</td>\n",
              "      <td>No</td>\n",
              "      <td>No</td>\n",
              "      <td>No</td>\n",
              "      <td>Yes</td>\n",
              "      <td>No</td>\n",
              "      <td>Male</td>\n",
              "      <td>75-79</td>\n",
              "      <td>180.0</td>\n",
              "      <td>93.44</td>\n",
              "      <td>28.73</td>\n",
              "      <td>No</td>\n",
              "      <td>0.0</td>\n",
              "      <td>30.0</td>\n",
              "      <td>30.0</td>\n",
              "      <td>8.0</td>\n",
              "      <td>Yes</td>\n",
              "    </tr>\n",
              "    <tr>\n",
              "      <th>4</th>\n",
              "      <td>Good</td>\n",
              "      <td>Within the past year</td>\n",
              "      <td>No</td>\n",
              "      <td>No</td>\n",
              "      <td>No</td>\n",
              "      <td>No</td>\n",
              "      <td>No</td>\n",
              "      <td>No</td>\n",
              "      <td>Male</td>\n",
              "      <td>80+</td>\n",
              "      <td>191.0</td>\n",
              "      <td>88.45</td>\n",
              "      <td>24.37</td>\n",
              "      <td>Yes</td>\n",
              "      <td>0.0</td>\n",
              "      <td>8.0</td>\n",
              "      <td>4.0</td>\n",
              "      <td>0.0</td>\n",
              "      <td>No</td>\n",
              "    </tr>\n",
              "  </tbody>\n",
              "</table>\n",
              "</div>"
            ],
            "text/plain": [
              "  General_Health                  Checkup Exercise Skin_Cancer Other_Cancer  \\\n",
              "0           Poor  Within the past 2 years       No          No           No   \n",
              "1      Very Good     Within the past year       No          No           No   \n",
              "2      Very Good     Within the past year      Yes          No           No   \n",
              "3           Poor     Within the past year      Yes          No           No   \n",
              "4           Good     Within the past year       No          No           No   \n",
              "\n",
              "  Depression Diabetes Arthritis     Sex Age_Category  Height_(cm)  \\\n",
              "0         No       No       Yes  Female        70-74        150.0   \n",
              "1         No      Yes        No  Female        70-74        165.0   \n",
              "2         No      Yes        No  Female        60-64        163.0   \n",
              "3         No      Yes        No    Male        75-79        180.0   \n",
              "4         No       No        No    Male          80+        191.0   \n",
              "\n",
              "   Weight_(kg)    BMI Smoking_History  Alcohol_Consumption  Fruit_Consumption  \\\n",
              "0        32.66  14.54             Yes                  0.0               30.0   \n",
              "1        77.11  28.29              No                  0.0               30.0   \n",
              "2        88.45  33.47              No                  4.0               12.0   \n",
              "3        93.44  28.73              No                  0.0               30.0   \n",
              "4        88.45  24.37             Yes                  0.0                8.0   \n",
              "\n",
              "   Green_Vegetables_Consumption  FriedPotato_Consumption Heart_Disease  \n",
              "0                          16.0                     12.0            No  \n",
              "1                           0.0                      4.0           Yes  \n",
              "2                           3.0                     16.0            No  \n",
              "3                          30.0                      8.0           Yes  \n",
              "4                           4.0                      0.0            No  "
            ]
          },
          "execution_count": 15,
          "metadata": {},
          "output_type": "execute_result"
        }
      ],
      "source": [
        "df.head(5)"
      ]
    },
    {
      "cell_type": "markdown",
      "metadata": {
        "id": "H06hAlY7woXM"
      },
      "source": [
        "## Removing outliers from Height_(cm)"
      ]
    },
    {
      "cell_type": "code",
      "execution_count": 16,
      "metadata": {
        "colab": {
          "base_uri": "https://localhost:8080/",
          "height": 607
        },
        "id": "IIq3p6RsJ0hP",
        "outputId": "313b4887-5af4-45f1-f4db-4a92f6bc1d23"
      },
      "outputs": [
        {
          "data": {
            "image/png": "[encoded data removed]",
            "text/plain": [
              "<Figure size 576x432 with 1 Axes>"
            ]
          },
          "metadata": {
            "needs_background": "light"
          },
          "output_type": "display_data"
        }
      ],
      "source": [
        "# Create a box plot for a single column\n",
        "plt.figure(figsize=(8, 6))\n",
        "boxprops = dict(linewidth=2, color='darkblue')\n",
        "medianprops = dict(linewidth=2, color='orange')\n",
        "capprops = dict(linewidth=2, color='black')\n",
        "whiskerprops = dict(linewidth=2, color='darkgreen')\n",
        "\n",
        "boxplot = df.boxplot(\n",
        "    column='Height_(cm)',\n",
        "    vert=False,  # Horizontal box plot\n",
        "    patch_artist=True,\n",
        "    boxprops=boxprops,\n",
        "    medianprops=medianprops,\n",
        "    capprops=capprops,\n",
        "    whiskerprops=whiskerprops,\n",
        "    widths=0.5,\n",
        "    showmeans=True,\n",
        "    meanline=True,\n",
        "    meanprops=dict(linewidth=2, color='red')\n",
        ")\n",
        "\n",
        "# Customizing the plot\n",
        "plt.title('Box Plot of Values')\n",
        "plt.xlabel('Values')\n",
        "plt.grid(axis='x', linestyle='--', alpha=0.7)\n",
        "plt.tight_layout()\n",
        "\n",
        "# Show the plot\n",
        "plt.show()"
      ]
    },
    {
      "cell_type": "code",
      "execution_count": 17,
      "metadata": {
        "id": "5li6JGcEJ0kJ"
      },
      "outputs": [],
      "source": [
        "# Calculate the median\n",
        "median = df['Height_(cm)'].median()\n",
        "\n",
        "# Calculate the IQR (Interquartile Range)\n",
        "Q1 = df['Height_(cm)'].quantile(0.25)\n",
        "Q3 = df['Height_(cm)'].quantile(0.75)\n",
        "IQR = Q3 - Q1\n",
        "\n",
        "# Define bounds for outliers\n",
        "lower_bound = Q1 - 1.5 * IQR\n",
        "upper_bound = Q3 + 1.5 * IQR\n",
        "\n",
        "# Replace outliers with the median\n",
        "df['Height_(cm)'] = df['Height_(cm)'].apply(lambda x: median if x < lower_bound or x > upper_bound else x)"
      ]
    },
    {
      "cell_type": "code",
      "execution_count": 18,
      "metadata": {
        "colab": {
          "base_uri": "https://localhost:8080/",
          "height": 607
        },
        "id": "6nFjdvL6J02P",
        "outputId": "a582cb67-22a8-477d-92f1-ce475e573489"
      },
      "outputs": [
        {
          "data": {
            "image/png": "[encoded data removed]",
            "text/plain": [
              "<Figure size 576x432 with 1 Axes>"
            ]
          },
          "metadata": {
            "needs_background": "light"
          },
          "output_type": "display_data"
        }
      ],
      "source": [
        "# Create a box plot for a single column\n",
        "plt.figure(figsize=(8, 6))\n",
        "boxprops = dict(linewidth=2, color='darkblue')\n",
        "medianprops = dict(linewidth=2, color='orange')\n",
        "capprops = dict(linewidth=2, color='black')\n",
        "whiskerprops = dict(linewidth=2, color='darkgreen')\n",
        "\n",
        "boxplot = df.boxplot(\n",
        "    column='Height_(cm)',\n",
        "    vert=False,  # Horizontal box plot\n",
        "    patch_artist=True,\n",
        "    boxprops=boxprops,\n",
        "    medianprops=medianprops,\n",
        "    capprops=capprops,\n",
        "    whiskerprops=whiskerprops,\n",
        "    widths=0.5,\n",
        "    showmeans=True,\n",
        "    meanline=True,\n",
        "    meanprops=dict(linewidth=2, color='red')\n",
        ")\n",
        "\n",
        "# Customizing the plot\n",
        "plt.title('Box Plot of Values')\n",
        "plt.xlabel('Values')\n",
        "plt.grid(axis='x', linestyle='--', alpha=0.7)\n",
        "plt.tight_layout()\n",
        "\n",
        "# Show the plot\n",
        "plt.show()"
      ]
    },
    {
      "cell_type": "markdown",
      "metadata": {
        "id": "qhwCHdJOKPY4"
      },
      "source": [
        "## Removing outliers from Weight_(kg)"
      ]
    },
    {
      "cell_type": "code",
      "execution_count": 19,
      "metadata": {
        "colab": {
          "base_uri": "https://localhost:8080/",
          "height": 607
        },
        "id": "0lvYQQvGKUuB",
        "outputId": "1d42a7b2-0791-4510-9a9c-48c717dc40c6"
      },
      "outputs": [
        {
          "data": {
            "image/png": "[encoded data removed]",
            "text/plain": [
              "<Figure size 576x432 with 1 Axes>"
            ]
          },
          "metadata": {
            "needs_background": "light"
          },
          "output_type": "display_data"
        }
      ],
      "source": [
        "# Create a box plot for a single column\n",
        "plt.figure(figsize=(8, 6))\n",
        "boxprops = dict(linewidth=2, color='darkblue')\n",
        "medianprops = dict(linewidth=2, color='orange')\n",
        "capprops = dict(linewidth=2, color='black')\n",
        "whiskerprops = dict(linewidth=2, color='darkgreen')\n",
        "\n",
        "boxplot = df.boxplot(\n",
        "    column='Weight_(kg)',\n",
        "    vert=False,  # Horizontal box plot\n",
        "    patch_artist=True,\n",
        "    boxprops=boxprops,\n",
        "    medianprops=medianprops,\n",
        "    capprops=capprops,\n",
        "    whiskerprops=whiskerprops,\n",
        "    widths=0.5,\n",
        "    showmeans=True,\n",
        "    meanline=True,\n",
        "    meanprops=dict(linewidth=2, color='red')\n",
        ")\n",
        "\n",
        "# Customizing the plot\n",
        "plt.title('Box Plot of Values')\n",
        "plt.xlabel('Values')\n",
        "plt.grid(axis='x', linestyle='--', alpha=0.7)\n",
        "plt.tight_layout()\n",
        "\n",
        "# Show the plot\n",
        "plt.show()"
      ]
    },
    {
      "cell_type": "code",
      "execution_count": 20,
      "metadata": {
        "id": "l40gvMj1KUxd"
      },
      "outputs": [],
      "source": [
        "# Calculate the median\n",
        "median = df['Weight_(kg)'].median()\n",
        "\n",
        "# Calculate the IQR (Interquartile Range)\n",
        "Q1 = df['Weight_(kg)'].quantile(0.25)\n",
        "Q3 = df['Weight_(kg)'].quantile(0.75)\n",
        "IQR = Q3 - Q1\n",
        "\n",
        "# Define bounds for outliers\n",
        "lower_bound = Q1 - 1.5 * IQR\n",
        "upper_bound = Q3 + 1.5 * IQR\n",
        "\n",
        "# Replace outliers with the median\n",
        "df['Weight_(kg)'] = df['Weight_(kg)'].apply(lambda x: median if x < lower_bound or x > upper_bound else x)"
      ]
    },
    {
      "cell_type": "code",
      "execution_count": 21,
      "metadata": {
        "colab": {
          "base_uri": "https://localhost:8080/",
          "height": 607
        },
        "id": "Y4pBLeZ6KVBf",
        "outputId": "17a55780-ba24-43d2-8956-8f716d53be81"
      },
      "outputs": [
        {
          "data": {
            "image/png": "[encoded data removed]",
            "text/plain": [
              "<Figure size 576x432 with 1 Axes>"
            ]
          },
          "metadata": {
            "needs_background": "light"
          },
          "output_type": "display_data"
        }
      ],
      "source": [
        "# Create a box plot for a single column\n",
        "plt.figure(figsize=(8, 6))\n",
        "boxprops = dict(linewidth=2, color='darkblue')\n",
        "medianprops = dict(linewidth=2, color='orange')\n",
        "capprops = dict(linewidth=2, color='black')\n",
        "whiskerprops = dict(linewidth=2, color='darkgreen')\n",
        "\n",
        "boxplot = df.boxplot(\n",
        "    column='Weight_(kg)',\n",
        "    vert=False,  # Horizontal box plot\n",
        "    patch_artist=True,\n",
        "    boxprops=boxprops,\n",
        "    medianprops=medianprops,\n",
        "    capprops=capprops,\n",
        "    whiskerprops=whiskerprops,\n",
        "    widths=0.5,\n",
        "    showmeans=True,\n",
        "    meanline=True,\n",
        "    meanprops=dict(linewidth=2, color='red')\n",
        ")\n",
        "\n",
        "# Customizing the plot\n",
        "plt.title('Box Plot of Values')\n",
        "plt.xlabel('Values')\n",
        "plt.grid(axis='x', linestyle='--', alpha=0.7)\n",
        "plt.tight_layout()\n",
        "\n",
        "# Show the plot\n",
        "plt.show()"
      ]
    },
    {
      "cell_type": "markdown",
      "metadata": {
        "id": "GxZ1D_TNvrgQ"
      },
      "source": [
        "## Removing outliers from BMI"
      ]
    },
    {
      "cell_type": "code",
      "execution_count": 22,
      "metadata": {
        "colab": {
          "base_uri": "https://localhost:8080/",
          "height": 607
        },
        "id": "inRAK__eqzSL",
        "outputId": "7520d1ce-e1e3-43c6-e5a4-cb96a3772b2f"
      },
      "outputs": [
        {
          "data": {
            "image/png": "[encoded data removed]",
            "text/plain": [
              "<Figure size 576x432 with 1 Axes>"
            ]
          },
          "metadata": {
            "needs_background": "light"
          },
          "output_type": "display_data"
        }
      ],
      "source": [
        "# Create a box plot for a single column\n",
        "plt.figure(figsize=(8, 6))\n",
        "boxprops = dict(linewidth=2, color='darkblue')\n",
        "medianprops = dict(linewidth=2, color='orange')\n",
        "capprops = dict(linewidth=2, color='black')\n",
        "whiskerprops = dict(linewidth=2, color='darkgreen')\n",
        "\n",
        "boxplot = df.boxplot(\n",
        "    column='BMI',\n",
        "    vert=False,  # Horizontal box plot\n",
        "    patch_artist=True,\n",
        "    boxprops=boxprops,\n",
        "    medianprops=medianprops,\n",
        "    capprops=capprops,\n",
        "    whiskerprops=whiskerprops,\n",
        "    widths=0.5,\n",
        "    showmeans=True,\n",
        "    meanline=True,\n",
        "    meanprops=dict(linewidth=2, color='red')\n",
        ")\n",
        "\n",
        "# Customizing the plot\n",
        "plt.title('Box Plot of Values')\n",
        "plt.xlabel('Values')\n",
        "plt.grid(axis='x', linestyle='--', alpha=0.7)\n",
        "plt.tight_layout()\n",
        "\n",
        "# Show the plot\n",
        "plt.show()"
      ]
    },
    {
      "cell_type": "code",
      "execution_count": 23,
      "metadata": {
        "id": "-bd1_NDQvz4s"
      },
      "outputs": [],
      "source": [
        "# Calculate the median\n",
        "median = df['BMI'].median()\n",
        "\n",
        "# Calculate the IQR (Interquartile Range)\n",
        "Q1 = df['BMI'].quantile(0.25)\n",
        "Q3 = df['BMI'].quantile(0.75)\n",
        "IQR = Q3 - Q1\n",
        "\n",
        "# Define bounds for outliers\n",
        "lower_bound = Q1 - 1.5 * IQR\n",
        "upper_bound = Q3 + 1.5 * IQR\n",
        "\n",
        "# Replace outliers with the median\n",
        "df['BMI'] = df['BMI'].apply(lambda x: median if x < lower_bound or x > upper_bound else x)"
      ]
    },
    {
      "cell_type": "code",
      "execution_count": 24,
      "metadata": {
        "colab": {
          "base_uri": "https://localhost:8080/",
          "height": 607
        },
        "id": "WWa5KXD7v7GQ",
        "outputId": "fe61b84a-3bdf-41d9-a9c2-a4a23230da30"
      },
      "outputs": [
        {
          "data": {
            "image/png": "[encoded data removed]",
            "text/plain": [
              "<Figure size 576x432 with 1 Axes>"
            ]
          },
          "metadata": {
            "needs_background": "light"
          },
          "output_type": "display_data"
        }
      ],
      "source": [
        "# Create a box plot for a single column\n",
        "plt.figure(figsize=(8, 6))\n",
        "boxprops = dict(linewidth=2, color='darkblue')\n",
        "medianprops = dict(linewidth=2, color='orange')\n",
        "capprops = dict(linewidth=2, color='black')\n",
        "whiskerprops = dict(linewidth=2, color='darkgreen')\n",
        "\n",
        "boxplot = df.boxplot(\n",
        "    column='BMI',\n",
        "    vert=False,  # Horizontal box plot\n",
        "    patch_artist=True,\n",
        "    boxprops=boxprops,\n",
        "    medianprops=medianprops,\n",
        "    capprops=capprops,\n",
        "    whiskerprops=whiskerprops,\n",
        "    widths=0.5,\n",
        "    showmeans=True,\n",
        "    meanline=True,\n",
        "    meanprops=dict(linewidth=2, color='red')\n",
        ")\n",
        "\n",
        "# Customizing the plot\n",
        "plt.title('Box Plot of Values')\n",
        "plt.xlabel('Values')\n",
        "plt.grid(axis='x', linestyle='--', alpha=0.7)\n",
        "plt.tight_layout()\n",
        "\n",
        "# Show the plot\n",
        "plt.show()"
      ]
    },
    {
      "cell_type": "markdown",
      "metadata": {
        "id": "lIvnICeJvWPd"
      },
      "source": [
        "## Removing outliers from FriedPotato_Consumption\n",
        "\n"
      ]
    },
    {
      "cell_type": "code",
      "execution_count": 25,
      "metadata": {
        "colab": {
          "base_uri": "https://localhost:8080/",
          "height": 607
        },
        "id": "zWb1Fg71sFxV",
        "outputId": "099b7b3a-3ddf-4c92-de35-115b259cda84"
      },
      "outputs": [
        {
          "data": {
            "image/png": "[encoded data removed]",
            "text/plain": [
              "<Figure size 576x432 with 1 Axes>"
            ]
          },
          "metadata": {
            "needs_background": "light"
          },
          "output_type": "display_data"
        }
      ],
      "source": [
        "# Create a box plot for a single column\n",
        "plt.figure(figsize=(8, 6))\n",
        "boxprops = dict(linewidth=2, color='darkblue')\n",
        "medianprops = dict(linewidth=2, color='orange')\n",
        "capprops = dict(linewidth=2, color='black')\n",
        "whiskerprops = dict(linewidth=2, color='darkgreen')\n",
        "\n",
        "boxplot = df.boxplot(\n",
        "    column='FriedPotato_Consumption',\n",
        "    vert=False,  # Horizontal box plot\n",
        "    patch_artist=True,\n",
        "    boxprops=boxprops,\n",
        "    medianprops=medianprops,\n",
        "    capprops=capprops,\n",
        "    whiskerprops=whiskerprops,\n",
        "    widths=0.5,\n",
        "    showmeans=True,\n",
        "    meanline=True,\n",
        "    meanprops=dict(linewidth=2, color='red')\n",
        ")\n",
        "\n",
        "# Customizing the plot\n",
        "plt.title('Box Plot of Values')\n",
        "plt.xlabel('Values')\n",
        "plt.grid(axis='x', linestyle='--', alpha=0.7)\n",
        "plt.tight_layout()\n",
        "\n",
        "# Show the plot\n",
        "plt.show()"
      ]
    },
    {
      "cell_type": "code",
      "execution_count": 26,
      "metadata": {
        "id": "YiB3Uix4tBit"
      },
      "outputs": [],
      "source": [
        "# Calculate the median\n",
        "median = df['FriedPotato_Consumption'].median()\n",
        "\n",
        "# Calculate the IQR (Interquartile Range)\n",
        "Q1 = df['FriedPotato_Consumption'].quantile(0.25)\n",
        "Q3 = df['FriedPotato_Consumption'].quantile(0.75)\n",
        "IQR = Q3 - Q1\n",
        "\n",
        "# Define bounds for outliers\n",
        "lower_bound = Q1 - 1.5 * IQR\n",
        "upper_bound = Q3 + 1.5 * IQR\n",
        "\n",
        "# Replace outliers with the median\n",
        "df['FriedPotato_Consumption'] = df['FriedPotato_Consumption'].apply(lambda x: median if x < lower_bound or x > upper_bound else x)"
      ]
    },
    {
      "cell_type": "code",
      "execution_count": 27,
      "metadata": {
        "colab": {
          "base_uri": "https://localhost:8080/",
          "height": 607
        },
        "id": "OvxuINmetwmE",
        "outputId": "473df624-2c40-4965-bd8d-e9b669ee74d5"
      },
      "outputs": [
        {
          "data": {
            "image/png": "[encoded data removed]",
            "text/plain": [
              "<Figure size 576x432 with 1 Axes>"
            ]
          },
          "metadata": {
            "needs_background": "light"
          },
          "output_type": "display_data"
        }
      ],
      "source": [
        "# Create a box plot for a single column\n",
        "plt.figure(figsize=(8, 6))\n",
        "boxprops = dict(linewidth=2, color='darkblue')\n",
        "medianprops = dict(linewidth=2, color='orange')\n",
        "capprops = dict(linewidth=2, color='black')\n",
        "whiskerprops = dict(linewidth=2, color='darkgreen')\n",
        "\n",
        "boxplot = df.boxplot(\n",
        "    column='FriedPotato_Consumption',\n",
        "    vert=False,  # Horizontal box plot\n",
        "    patch_artist=True,\n",
        "    boxprops=boxprops,\n",
        "    medianprops=medianprops,\n",
        "    capprops=capprops,\n",
        "    whiskerprops=whiskerprops,\n",
        "    widths=0.5,\n",
        "    showmeans=True,\n",
        "    meanline=True,\n",
        "    meanprops=dict(linewidth=2, color='red')\n",
        ")\n",
        "\n",
        "# Customizing the plot\n",
        "plt.title('Box Plot of Values')\n",
        "plt.xlabel('Values')\n",
        "plt.grid(axis='x', linestyle='--', alpha=0.7)\n",
        "plt.tight_layout()\n",
        "\n",
        "# Show the plot\n",
        "plt.show()"
      ]
    },
    {
      "cell_type": "markdown",
      "metadata": {
        "id": "QmkIuOKbLkJ4"
      },
      "source": [
        "## Mapping\n"
      ]
    },
    {
      "cell_type": "code",
      "execution_count": 28,
      "metadata": {
        "colab": {
          "base_uri": "https://localhost:8080/"
        },
        "id": "B-Pwr1csLx4l",
        "outputId": "a124bbde-b264-4e41-8af1-d7ca73f7c325"
      },
      "outputs": [
        {
          "data": {
            "text/plain": [
              "array(['Within the past 2 years', 'Within the past year',\n",
              "       '5 or more years ago', 'Within the past 5 years', 'Never'],\n",
              "      dtype=object)"
            ]
          },
          "execution_count": 28,
          "metadata": {},
          "output_type": "execute_result"
        }
      ],
      "source": [
        "df['Checkup'].unique()"
      ]
    },
    {
      "cell_type": "code",
      "execution_count": 29,
      "metadata": {
        "colab": {
          "base_uri": "https://localhost:8080/"
        },
        "id": "6kibCNL3MtHR",
        "outputId": "df3ce7f7-477e-4373-8788-770225509f7f"
      },
      "outputs": [
        {
          "data": {
            "text/plain": [
              "array(['Poor', 'Very Good', 'Good', 'Fair', 'Excellent'], dtype=object)"
            ]
          },
          "execution_count": 29,
          "metadata": {},
          "output_type": "execute_result"
        }
      ],
      "source": [
        "df['General_Health'].unique()"
      ]
    },
    {
      "cell_type": "code",
      "execution_count": 30,
      "metadata": {
        "colab": {
          "base_uri": "https://localhost:8080/"
        },
        "id": "wI1l0eFZM_mk",
        "outputId": "c2b35144-d970-4d86-a24a-fd235bfcae49"
      },
      "outputs": [
        {
          "data": {
            "text/plain": [
              "array(['70-74', '60-64', '75-79', '80+', '65-69', '50-54', '45-49',\n",
              "       '18-24', '30-34', '55-59', '35-39', '40-44', '25-29'], dtype=object)"
            ]
          },
          "execution_count": 30,
          "metadata": {},
          "output_type": "execute_result"
        }
      ],
      "source": [
        "df['Age_Category'].unique()"
      ]
    },
    {
      "cell_type": "code",
      "execution_count": 31,
      "metadata": {
        "colab": {
          "base_uri": "https://localhost:8080/"
        },
        "id": "q2LGky9xQlhH",
        "outputId": "72de4e56-4f56-43de-b96c-a4e2f8b0a148"
      },
      "outputs": [
        {
          "data": {
            "text/plain": [
              "array(['No', 'Yes', 'No, pre-diabetes or borderline diabetes',\n",
              "       'Yes, but female told only during pregnancy'], dtype=object)"
            ]
          },
          "execution_count": 31,
          "metadata": {},
          "output_type": "execute_result"
        }
      ],
      "source": [
        "df['Diabetes'].unique()"
      ]
    },
    {
      "cell_type": "code",
      "execution_count": 32,
      "metadata": {
        "id": "bknNdewaLo-Y"
      },
      "outputs": [],
      "source": [
        "checkup = {'Within the past 2 years':0, 'Within the past year':1,\n",
        "       '5 or more years ago':2, 'Within the past 5 years':3, 'Never':4}\n",
        "exercise = {'No':0, 'Yes':1}\n",
        "heart_disease = {'No':0, 'Yes':1}\n",
        "skin_cancer = {'No':0, 'Yes':1}\n",
        "other_cancer = {'No':0, 'Yes':1}\n",
        "depression = {'No':0, 'Yes':1}\n",
        "diabetes = {'No':0, 'Yes':1, 'No, pre-diabetes or borderline diabetes':2,\n",
        "       'Yes, but female told only during pregnancy':3}\n",
        "arthritis = {'No':0, 'Yes':1}\n",
        "sex = {'Male':0, 'Female':1, 'Other': 2}\n",
        "smoking_history = {'No':0, 'Yes':1}\n",
        "general_health = {'Poor':0, 'Very Good':3, 'Good':2, 'Fair':1, 'Excellent':4}\n",
        "age = {'70-74':11, '60-64':9, '75-79':12, '80+':13, '65-69':10, '50-54':7, '45-49':6,\n",
        "       '18-24':0, '30-34':3, '55-59':8, '35-39':4, '40-44':5, '25-29':1}"
      ]
    },
    {
      "cell_type": "code",
      "execution_count": 33,
      "metadata": {
        "id": "hTL9QGngNvfi"
      },
      "outputs": [],
      "source": [
        "df['Checkup'] = df['Checkup'].map(checkup)\n",
        "df['Exercise'] = df['Exercise'].map(exercise)\n",
        "df['Heart_Disease'] = df['Heart_Disease'].map(heart_disease)\n",
        "df['Skin_Cancer'] = df['Skin_Cancer'].map(skin_cancer)\n",
        "df['Other_Cancer'] = df['Other_Cancer'].map(other_cancer)\n",
        "df['Depression'] = df['Depression'].map(depression)\n",
        "df['Diabetes'] = df['Diabetes'].map(diabetes)\n",
        "df['Arthritis'] = df['Arthritis'].map(arthritis)\n",
        "df['Sex'] = df['Sex'].map(sex)\n",
        "df['Smoking_History'] = df['Smoking_History'].map(smoking_history)\n",
        "df['General_Health'] = df['General_Health'].map(general_health)\n",
        "df['Age_Category'] = df['Age_Category'].map(age)"
      ]
    },
    {
      "cell_type": "code",
      "execution_count": 34,
      "metadata": {
        "colab": {
          "base_uri": "https://localhost:8080/",
          "height": 207
        },
        "id": "gUg6JitpO1tD",
        "outputId": "c7187ad8-8620-4e77-f67b-052df46c422c"
      },
      "outputs": [
        {
          "data": {
            "text/html": [
              "<div>\n",
              "<style scoped>\n",
              "    .dataframe tbody tr th:only-of-type {\n",
              "        vertical-align: middle;\n",
              "    }\n",
              "\n",
              "    .dataframe tbody tr th {\n",
              "        vertical-align: top;\n",
              "    }\n",
              "\n",
              "    .dataframe thead th {\n",
              "        text-align: right;\n",
              "    }\n",
              "</style>\n",
              "<table border=\"1\" class=\"dataframe\">\n",
              "  <thead>\n",
              "    <tr style=\"text-align: right;\">\n",
              "      <th></th>\n",
              "      <th>General_Health</th>\n",
              "      <th>Checkup</th>\n",
              "      <th>Exercise</th>\n",
              "      <th>Skin_Cancer</th>\n",
              "      <th>Other_Cancer</th>\n",
              "      <th>Depression</th>\n",
              "      <th>Diabetes</th>\n",
              "      <th>Arthritis</th>\n",
              "      <th>Sex</th>\n",
              "      <th>Age_Category</th>\n",
              "      <th>Height_(cm)</th>\n",
              "      <th>Weight_(kg)</th>\n",
              "      <th>BMI</th>\n",
              "      <th>Smoking_History</th>\n",
              "      <th>Alcohol_Consumption</th>\n",
              "      <th>Fruit_Consumption</th>\n",
              "      <th>Green_Vegetables_Consumption</th>\n",
              "      <th>FriedPotato_Consumption</th>\n",
              "      <th>Heart_Disease</th>\n",
              "    </tr>\n",
              "  </thead>\n",
              "  <tbody>\n",
              "    <tr>\n",
              "      <th>0</th>\n",
              "      <td>0</td>\n",
              "      <td>0</td>\n",
              "      <td>0</td>\n",
              "      <td>0</td>\n",
              "      <td>0</td>\n",
              "      <td>0</td>\n",
              "      <td>0</td>\n",
              "      <td>1</td>\n",
              "      <td>1</td>\n",
              "      <td>11</td>\n",
              "      <td>150.0</td>\n",
              "      <td>32.66</td>\n",
              "      <td>14.54</td>\n",
              "      <td>1</td>\n",
              "      <td>0.0</td>\n",
              "      <td>30.0</td>\n",
              "      <td>16.0</td>\n",
              "      <td>12.0</td>\n",
              "      <td>0</td>\n",
              "    </tr>\n",
              "    <tr>\n",
              "      <th>1</th>\n",
              "      <td>3</td>\n",
              "      <td>1</td>\n",
              "      <td>0</td>\n",
              "      <td>0</td>\n",
              "      <td>0</td>\n",
              "      <td>0</td>\n",
              "      <td>1</td>\n",
              "      <td>0</td>\n",
              "      <td>1</td>\n",
              "      <td>11</td>\n",
              "      <td>165.0</td>\n",
              "      <td>77.11</td>\n",
              "      <td>28.29</td>\n",
              "      <td>0</td>\n",
              "      <td>0.0</td>\n",
              "      <td>30.0</td>\n",
              "      <td>0.0</td>\n",
              "      <td>4.0</td>\n",
              "      <td>1</td>\n",
              "    </tr>\n",
              "    <tr>\n",
              "      <th>2</th>\n",
              "      <td>3</td>\n",
              "      <td>1</td>\n",
              "      <td>1</td>\n",
              "      <td>0</td>\n",
              "      <td>0</td>\n",
              "      <td>0</td>\n",
              "      <td>1</td>\n",
              "      <td>0</td>\n",
              "      <td>1</td>\n",
              "      <td>9</td>\n",
              "      <td>163.0</td>\n",
              "      <td>88.45</td>\n",
              "      <td>33.47</td>\n",
              "      <td>0</td>\n",
              "      <td>4.0</td>\n",
              "      <td>12.0</td>\n",
              "      <td>3.0</td>\n",
              "      <td>16.0</td>\n",
              "      <td>0</td>\n",
              "    </tr>\n",
              "    <tr>\n",
              "      <th>3</th>\n",
              "      <td>0</td>\n",
              "      <td>1</td>\n",
              "      <td>1</td>\n",
              "      <td>0</td>\n",
              "      <td>0</td>\n",
              "      <td>0</td>\n",
              "      <td>1</td>\n",
              "      <td>0</td>\n",
              "      <td>0</td>\n",
              "      <td>12</td>\n",
              "      <td>180.0</td>\n",
              "      <td>93.44</td>\n",
              "      <td>28.73</td>\n",
              "      <td>0</td>\n",
              "      <td>0.0</td>\n",
              "      <td>30.0</td>\n",
              "      <td>30.0</td>\n",
              "      <td>8.0</td>\n",
              "      <td>1</td>\n",
              "    </tr>\n",
              "    <tr>\n",
              "      <th>4</th>\n",
              "      <td>2</td>\n",
              "      <td>1</td>\n",
              "      <td>0</td>\n",
              "      <td>0</td>\n",
              "      <td>0</td>\n",
              "      <td>0</td>\n",
              "      <td>0</td>\n",
              "      <td>0</td>\n",
              "      <td>0</td>\n",
              "      <td>13</td>\n",
              "      <td>191.0</td>\n",
              "      <td>88.45</td>\n",
              "      <td>24.37</td>\n",
              "      <td>1</td>\n",
              "      <td>0.0</td>\n",
              "      <td>8.0</td>\n",
              "      <td>4.0</td>\n",
              "      <td>0.0</td>\n",
              "      <td>0</td>\n",
              "    </tr>\n",
              "  </tbody>\n",
              "</table>\n",
              "</div>"
            ],
            "text/plain": [
              "   General_Health  Checkup  Exercise  Skin_Cancer  Other_Cancer  Depression  \\\n",
              "0               0        0         0            0             0           0   \n",
              "1               3        1         0            0             0           0   \n",
              "2               3        1         1            0             0           0   \n",
              "3               0        1         1            0             0           0   \n",
              "4               2        1         0            0             0           0   \n",
              "\n",
              "   Diabetes  Arthritis  Sex  Age_Category  Height_(cm)  Weight_(kg)    BMI  \\\n",
              "0         0          1    1            11        150.0        32.66  14.54   \n",
              "1         1          0    1            11        165.0        77.11  28.29   \n",
              "2         1          0    1             9        163.0        88.45  33.47   \n",
              "3         1          0    0            12        180.0        93.44  28.73   \n",
              "4         0          0    0            13        191.0        88.45  24.37   \n",
              "\n",
              "   Smoking_History  Alcohol_Consumption  Fruit_Consumption  \\\n",
              "0                1                  0.0               30.0   \n",
              "1                0                  0.0               30.0   \n",
              "2                0                  4.0               12.0   \n",
              "3                0                  0.0               30.0   \n",
              "4                1                  0.0                8.0   \n",
              "\n",
              "   Green_Vegetables_Consumption  FriedPotato_Consumption  Heart_Disease  \n",
              "0                          16.0                     12.0              0  \n",
              "1                           0.0                      4.0              1  \n",
              "2                           3.0                     16.0              0  \n",
              "3                          30.0                      8.0              1  \n",
              "4                           4.0                      0.0              0  "
            ]
          },
          "execution_count": 34,
          "metadata": {},
          "output_type": "execute_result"
        }
      ],
      "source": [
        "df.head(5)"
      ]
    },
    {
      "cell_type": "markdown",
      "metadata": {
        "id": "bAGzI0t6RI3-"
      },
      "source": [
        "# Data Modeling"
      ]
    },
    {
      "cell_type": "code",
      "execution_count": 35,
      "metadata": {
        "id": "jpIMSNdLYIzO"
      },
      "outputs": [],
      "source": [
        "# Separate Target Variable and Predictor Variables\n",
        "TargetVariable='Heart_Disease'\n",
        "Predictors=['General_Health', 'Checkup', 'Exercise', 'Skin_Cancer',\n",
        "       'Other_Cancer', 'Depression', 'Diabetes', 'Arthritis', 'Sex',\n",
        "       'Age_Category', 'Height_(cm)', 'Weight_(kg)', 'BMI', 'Smoking_History',\n",
        "       'Alcohol_Consumption', 'Fruit_Consumption',\n",
        "       'Green_Vegetables_Consumption', 'FriedPotato_Consumption']\n",
        "\n",
        "X = df[Predictors].values\n",
        "y = df[TargetVariable].values\n",
        "\n",
        "# Split the data into training and testing set\n",
        "X_train, X_test, y_train, y_test = train_test_split(X, y, test_size=0.3, random_state=42)"
      ]
    },
    {
      "cell_type": "code",
      "execution_count": 36,
      "metadata": {
        "id": "GCXGxkHydpGh"
      },
      "outputs": [],
      "source": [
        "# Define the pipeline\n",
        "resampling = SMOTE(sampling_strategy='minority') # resampling strategy is set to 'minority' to resample the minority class\n",
        "tomek = TomekLinks(sampling_strategy='majority') # sampling strategy is set to 'majority' to undersample the majority class\n",
        "scaler = MinMaxScaler()\n",
        "model = XGBClassifier(scale_pos_weight=sum(y==0)/sum(y==1), # adjust class weights due to class imbalance\n",
        "                      eval_metric='logloss', # use logloss to evaluate performance\n",
        "                      use_label_encoder=False) # to avoid warning message\n",
        "pipeline = Pipeline([('MinMaxScale', scaler), ('SMOTE', resampling), ('TomekLinks', tomek), ('Model', model)])"
      ]
    },
    {
      "cell_type": "code",
      "execution_count": 37,
      "metadata": {
        "colab": {
          "base_uri": "https://localhost:8080/",
          "height": 951
        },
        "id": "oRQ8SOmna39Q",
        "outputId": "53740958-5d0f-46a1-db3a-944ce4f3ddc2"
      },
      "outputs": [
        {
          "name": "stdout",
          "output_type": "stream",
          "text": [
            "XGBClassifier(base_score=None, booster=None, callbacks=None,\n",
            "              colsample_bylevel=None, colsample_bynode=None,\n",
            "              colsample_bytree=None, early_stopping_rounds=None,\n",
            "              enable_categorical=False, eval_metric='logloss', gamma=None,\n",
            "              gpu_id=None, grow_policy=None, importance_type=None,\n",
            "              interaction_constraints=None, learning_rate=None, max_bin=None,\n",
            "              max_cat_to_onehot=None, max_delta_step=None, max_depth=None,\n",
            "              max_leaves=None, min_child_weight=None, missing=nan,\n",
            "              monotone_constraints=None, n_estimators=100, n_jobs=None,\n",
            "              num_parallel_tree=None, predictor=None, random_state=None,\n",
            "              reg_alpha=None, reg_lambda=None, ...)\n",
            "              precision    recall  f1-score   support\n",
            "\n",
            "           0       0.97      0.74      0.84     85100\n",
            "           1       0.21      0.76      0.32      7533\n",
            "\n",
            "    accuracy                           0.74     92633\n",
            "   macro avg       0.59      0.75      0.58     92633\n",
            "weighted avg       0.91      0.74      0.80     92633\n",
            "\n",
            "[[62850 22250]\n",
            " [ 1772  5761]]\n",
            "Accuracy of the model on Testing Sample Data: 0.8\n",
            "\n",
            "Accuracy values for 10-fold Cross Validation:\n",
            " [0.79869474 0.79783278 0.80032019 0.79832993 0.79291754 0.78644477\n",
            " 0.78627248 0.80023295 0.80957883 0.78742404]\n",
            "\n",
            "Final Average Accuracy of the model: 0.8\n"
          ]
        },
        {
          "data": {
            "text/plain": [
              "<AxesSubplot:>"
            ]
          },
          "execution_count": 37,
          "metadata": {},
          "output_type": "execute_result"
        },
        {
          "data": {
            "image/png": "[encoded data removed]",
            "text/plain": [
              "<Figure size 432x288 with 1 Axes>"
            ]
          },
          "metadata": {
            "needs_background": "light"
          },
          "output_type": "display_data"
        }
      ],
      "source": [
        "# Xtreme Gradient Boosting (XGBoost)\n",
        "from xgboost import XGBClassifier\n",
        "model = XGBClassifier(\n",
        "    scale_pos_weight=sum(y_train==0)/sum(y_train==1), # adjust class weights due to class imbalance\n",
        "    eval_metric='logloss', # use logloss to evaluate performance\n",
        "    use_label_encoder=False # to avoid warning message\n",
        ")\n",
        "\n",
        "# Printing all the parameters of XGBoost\n",
        "print(model)\n",
        "\n",
        "# Creating the model on Training Data\n",
        "XGB=model.fit(X_train,y_train)\n",
        "prediction=XGB.predict(X_test)\n",
        "\n",
        "# Measuring accuracy on Testing Data\n",
        "from sklearn import metrics\n",
        "print(metrics.classification_report(y_test, prediction))\n",
        "print(metrics.confusion_matrix(y_test, prediction))\n",
        "\n",
        "# Printing the Overall Accuracy of the model\n",
        "F1_Score=metrics.f1_score(y_test, prediction, average='weighted')\n",
        "print('Accuracy of the model on Testing Sample Data:', round(F1_Score,2))\n",
        "\n",
        "# Importing cross validation function from sklearn\n",
        "from sklearn.model_selection import cross_val_score\n",
        "\n",
        "# Running 10-Fold Cross validation on a given algorithm\n",
        "# Passing full data X and y because the K-fold will split the data and automatically choose train/test\n",
        "Accuracy_Values=cross_val_score(XGB, X , y, cv=10, scoring='f1_weighted')\n",
        "print('\\nAccuracy values for 10-fold Cross Validation:\\n',Accuracy_Values)\n",
        "print('\\nFinal Average Accuracy of the model:', round(Accuracy_Values.mean(),2))\n",
        "\n",
        "# Plotting the feature importance for Top 10 most important columns\n",
        "%matplotlib inline\n",
        "feature_importances = pd.Series(XGB.feature_importances_, index=Predictors)\n",
        "feature_importances.nlargest(10).plot(kind='barh')"
      ]
    },
    {
      "cell_type": "code",
      "execution_count": 38,
      "metadata": {
        "id": "V7jKfqXrfYjS"
      },
      "outputs": [],
      "source": [
        "# Define the model with default hyperparameters\n",
        "model = XGBClassifier(\n",
        "    scale_pos_weight=sum(y_train==0)/sum(y_train==1), # adjust class weights due to class imbalance\n",
        "    eval_metric='logloss', # use logloss to evaluate performance\n",
        "    use_label_encoder=False # to avoid warning message\n",
        ")\n",
        "\n",
        "# Train the model\n",
        "model.fit(X_train, y_train)\n",
        "\n",
        "# Make predictions on the test set\n",
        "y_pred = model.predict(X_test)\n",
        "y_score = model.predict_proba(X_test)[:,1]"
      ]
    },
    {
      "cell_type": "markdown",
      "metadata": {
        "id": "VB0DcXf-pljf"
      },
      "source": [
        "## Classification Report"
      ]
    },
    {
      "cell_type": "code",
      "execution_count": 39,
      "metadata": {
        "colab": {
          "base_uri": "https://localhost:8080/"
        },
        "id": "ECLFkTwTfF3N",
        "outputId": "048076e0-d04a-4f5f-f138-599fa9f1f73c"
      },
      "outputs": [
        {
          "name": "stdout",
          "output_type": "stream",
          "text": [
            "              precision    recall  f1-score   support\n",
            "\n",
            "           0       0.97      0.74      0.84     85100\n",
            "           1       0.21      0.76      0.32      7533\n",
            "\n",
            "    accuracy                           0.74     92633\n",
            "   macro avg       0.59      0.75      0.58     92633\n",
            "weighted avg       0.91      0.74      0.80     92633\n",
            "\n"
          ]
        }
      ],
      "source": [
        "# Print the classification report\n",
        "print(classification_report(y_test, y_pred))"
      ]
    },
    {
      "cell_type": "markdown",
      "metadata": {
        "id": "0KFaz9NfpsyC"
      },
      "source": [
        "## Confusion Matrix"
      ]
    },
    {
      "cell_type": "code",
      "execution_count": 40,
      "metadata": {
        "colab": {
          "base_uri": "https://localhost:8080/",
          "height": 449
        },
        "id": "AunHbVTGewQH",
        "outputId": "36e11d2d-78a2-472c-f136-ebe19f360016"
      },
      "outputs": [
        {
          "data": {
            "image/png": "[encoded data removed]",
            "text/plain": [
              "<Figure size 432x288 with 2 Axes>"
            ]
          },
          "metadata": {
            "needs_background": "light"
          },
          "output_type": "display_data"
        }
      ],
      "source": [
        "# Make predictions on the test set\n",
        "y_pred = model.predict(X_test)\n",
        "\n",
        "# Compute the confusion matrix\n",
        "cm = confusion_matrix(y_test, y_pred, labels=model.classes_)\n",
        "\n",
        "# Create a ConfusionMatrixDisplay object\n",
        "disp = ConfusionMatrixDisplay(confusion_matrix=cm, display_labels=model.classes_)\n",
        "\n",
        "# Plot the confusion matrix\n",
        "disp.plot()\n",
        "plt.show()"
      ]
    },
    {
      "cell_type": "markdown",
      "metadata": {
        "id": "NEPWjxJOpziy"
      },
      "source": [
        "## ROC Curve and ROC Area"
      ]
    },
    {
      "cell_type": "code",
      "execution_count": 41,
      "metadata": {
        "colab": {
          "base_uri": "https://localhost:8080/",
          "height": 472
        },
        "id": "gAFwQM70fhTc",
        "outputId": "d6d6ba33-4bb7-4c28-83d0-da28cb71b885"
      },
      "outputs": [
        {
          "data": {
            "image/png": "[encoded data removed]",
            "text/plain": [
              "<Figure size 432x288 with 1 Axes>"
            ]
          },
          "metadata": {
            "needs_background": "light"
          },
          "output_type": "display_data"
        }
      ],
      "source": [
        "# Compute ROC curve and ROC area\n",
        "fpr_optimized, tpr_optimized, _ = roc_curve(y_test, y_pred)\n",
        "roc_auc_optimized = auc(fpr_optimized, tpr_optimized)\n",
        "\n",
        "# Plot ROC curve\n",
        "plt.figure()\n",
        "plt.plot(fpr_optimized, tpr_optimized, color='darkorange', lw=2, label='ROC curve (area = %0.2f)' % roc_auc_optimized)\n",
        "plt.plot([0, 1], [0, 1], color='navy', lw=2, linestyle='--')\n",
        "plt.xlim([0.0, 1.0])\n",
        "plt.ylim([0.0, 1.05])\n",
        "plt.xlabel('False Positive Rate')\n",
        "plt.ylabel('True Positive Rate')\n",
        "plt.title('Receiver Operating Characteristic')\n",
        "plt.legend(loc=\"lower right\")\n",
        "plt.show()"
      ]
    },
    {
      "cell_type": "code",
      "execution_count": 42,
      "metadata": {
        "colab": {
          "base_uri": "https://localhost:8080/",
          "height": 472
        },
        "id": "xnlRqM-efhHo",
        "outputId": "2a6f2887-936c-4e02-ec88-0da37d7380b3"
      },
      "outputs": [
        {
          "data": {
            "image/png": "[encoded data removed]",
            "text/plain": [
              "<Figure size 432x288 with 1 Axes>"
            ]
          },
          "metadata": {
            "needs_background": "light"
          },
          "output_type": "display_data"
        }
      ],
      "source": [
        "# Plot the precision-recall curve\n",
        "precision, recall, _ = precision_recall_curve(y_test, y_score)\n",
        "plt.figure()\n",
        "plt.plot(recall, precision, label='Precision-Recall curve')\n",
        "plt.xlabel('Recall')\n",
        "plt.ylabel('Precision')\n",
        "plt.title('Precision-Recall curve')\n",
        "plt.legend(loc=\"lower left\")\n",
        "\n",
        "plt.show()"
      ]
    },
    {
      "cell_type": "code",
      "execution_count": 43,
      "metadata": {
        "colab": {
          "base_uri": "https://localhost:8080/",
          "height": 472
        },
        "id": "l15aJX73fgyO",
        "outputId": "e7092e37-bf45-49bd-a8f6-150c02e1114f"
      },
      "outputs": [
        {
          "data": {
            "image/png": "[encoded data removed]",
            "text/plain": [
              "<Figure size 432x288 with 1 Axes>"
            ]
          },
          "metadata": {
            "needs_background": "light"
          },
          "output_type": "display_data"
        }
      ],
      "source": [
        "# Plot the learning curve\n",
        "train_sizes, train_scores, valid_scores = learning_curve(model, X, y, train_sizes=np.linspace(0.1, 1.0, 5), cv=5)\n",
        "plt.figure()\n",
        "plt.plot(train_sizes, train_scores.mean(axis=1), label='Training score')\n",
        "plt.plot(train_sizes, valid_scores.mean(axis=1), label='Cross-validation score')\n",
        "plt.xlabel('Training set size')\n",
        "plt.ylabel('Score')\n",
        "plt.title('Learning curve')\n",
        "plt.legend(loc=\"lower right\")\n",
        "plt.show()"
      ]
    },
    {
      "cell_type": "markdown",
      "metadata": {},
      "source": [
        "# Result"
      ]
    },
    {
      "cell_type": "markdown",
      "metadata": {},
      "source": [
        "The skilled model underwent an extensive evaluation, employing a variety of metrics like precision, recall, F1-score, and the captivating area under the ROC curve (AUC). Delving into the classification report, a mesmerizing sight unfolds: for class 0, the model wields a precision akin to a sharpshooter's aim (0.97) 🎯, yet its recall wavers like a dancer caught in a swirl (0.74) 🔄. However, in a delightful twist, class 1 emerges, boasting a precision that's as elusive as a hidden treasure (0.21), yet its recall shines bright like a guiding star (0.76). The F1-scores reveal their tale: class 0 standing tall at 0.84, while class 1 hums a lower tune at 0.32, painting a picture of class 0's supremacy in the model's predictions. The grand tapestry of the model's overall accuracy unfurls at 0.74 🎲.\n",
        "\n",
        "As the mist clears on the confusion matrix, a spectacle takes shape: a bountiful hoard of true negatives (5761) ✔️ rests beside a cascading waterfall of false positives (22250) ❌. It's as if the model, an oracle of sorts, occasionally confuses the echoes of class 0 for the whispers of class 1. Amidst the tableau, false negatives assume a modest stance, mere whispers (1772), while true positives join the chorus in humble numbers (62850).\n",
        "\n",
        "A glance at the mesmerizing area under the ROC curve reveals a score of 0.75, akin to a seasoned voyager navigating the treacherous waters of distinguishing between positive and negative classes 📈.\n",
        "\n",
        "And then, the Precision-Recall curve steps onto the stage, its performance an enigmatic dance. It opens with a flourish of perfect recall, a trait as rare as a comet's visit. Yet, precision tiptoes delicately at the start, as if hesitant to commit. The delicate balance between these measures creates a portrait of the model's tendency to sway towards over-predicting the positive class ⚖️."
      ]
    },
    {
      "cell_type": "markdown",
      "metadata": {},
      "source": [
        "# Discussion"
      ]
    },
    {
      "cell_type": "markdown",
      "metadata": {},
      "source": [
        "The findings unfold a tale of a model navigating the waters of accuracy and AUC, revealing a landscape marked by contrasting performances across the two distinct classes. While its overall accuracy and AUC stand as commendable achievements, the model's prowess diverges notably. It shines as a true luminary in the realm of predicting class 0, its predictions akin to a sage's insights. Yet, when it comes to the intricate realm of class 1, a unique drama unfolds — a drama of high recall but a faltering precision. This dynamic unveils a model treading cautiously when it comes to class 1, a strategy that births a flourish of false positives and a scarcity of true positives, like the ebb and flow of a mysterious dance 📉.\n",
        "\n",
        "This asymmetrical performance could be an echo of the imbalance ingrained within the training data, a tale where the model seems drawn towards the majority class like a magnet to metal 🏭. To mend this imbalance, strategies of resampling could be summoned, each thread woven meticulously to harmonize the classes. Alternatively, the model's sensibilities could be recalibrated by adjusting the class weights or nudging the threshold, with the aim of rekindling its sensitivity to the minority class ↕️.\n",
        "\n",
        "In the realm of possibilities, lies the path of enhancement through the art of feature engineering or the adoption of a more intricate or unconventional model. Yet, this journey, though enticing, must be undertaken with caution, each step validated meticulously to prevent the shadow of overfitting from falling across the model's aspirations 🎛️🔬."
      ]
    }
  ],
  "metadata": {
    "colab": {
      "collapsed_sections": [
        "Fu4WQU2qkK2w",
        "AulTOBtwkOib",
        "WUk5c4XakTRb",
        "CgoIS6xWkYaC",
        "iuMCyRoJkgdF",
        "H06hAlY7woXM",
        "bAGzI0t6RI3-"
      ],
      "provenance": [],
      "toc_visible": true
    },
    "kernelspec": {
      "display_name": "Python 3.9.12 ('base')",
      "language": "python",
      "name": "python3"
    },
    "language_info": {
      "codemirror_mode": {
        "name": "ipython",
        "version": 3
      },
      "file_extension": ".py",
      "mimetype": "text/x-python",
      "name": "python",
      "nbconvert_exporter": "python",
      "pygments_lexer": "ipython3",
      "version": "3.9.12"
    },
    "vscode": {
      "interpreter": {
        "hash": "a077222d77dfe082b8f1dd562ad70e458ac2ab76993a0b248ab0476e32e9e8dd"
      }
    }
  },
  "nbformat": 4,
  "nbformat_minor": 0
}
